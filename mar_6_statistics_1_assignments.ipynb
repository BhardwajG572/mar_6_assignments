{
 "cells": [
  {
   "cell_type": "code",
   "execution_count": 1,
   "id": "fd6856f5",
   "metadata": {},
   "outputs": [],
   "source": [
    "# Q1. What is Statistics?\n",
    "# Q2. Define the different types of statistics and give an example of when each type might be used.\n",
    "# Q3. What are the different types of data and how do they differ from each other? Provide an example of\n",
    "# each type of data.\n",
    "\n",
    "# Q5. Explain the concept of levels of measurement and give an example of a variable for each level.\n",
    "# Q6. Why is it important to understand the level of measurement when analyzing data? Provide an\n",
    "# example to illustrate your answer.\n",
    "# Q7. How nominal data type is different from ordinal data type.\n",
    "# Q8. Which type of plot can be used to display data in terms of range?\n",
    "# Q9. Describe the difference between descriptive and inferential statistics. Give an example of each\n",
    "# type of statistics and explain how they are used.\n",
    "# Q10. What are some common measures of central tendency and variability used in statistics? Explain\n",
    "# how each measure can be used to describe a dataset.\n",
    "# Q4. Categorise the following datasets with respect to quantitative and qualitative data types:\n",
    "# (i) Grading in exam: A+, A, B+, B, C+, C, D, E\n",
    "# (ii) Colour of mangoes: yellow, green, orange, red\n",
    "# (iii) Height data of a class: [178.9, 179, 179.5, 176, 177.2, 178.3, 175.8,...]\n",
    "# # (iv) Number of mangoes exported by a farm: [500, 600, 478"
   ]
  },
  {
   "cell_type": "code",
   "execution_count": 2,
   "id": "7e92a7c2",
   "metadata": {},
   "outputs": [],
   "source": [
    "# Q1. What is Statistics?\n",
    "# Statistics is the branch of mathematics that deals with the collection, analysis, interpretation, presentation, and organization of data.\n",
    "# It helps in making informed decisions based on empirical data by using various techniques and methodologies to summarize and infer the properties of the data."
   ]
  },
  {
   "cell_type": "code",
   "execution_count": 3,
   "id": "d53a522c",
   "metadata": {},
   "outputs": [],
   "source": [
    "# Q2. Define the different types of statistics and give an example of when each type might be used.\n",
    "# Statistics can be broadly divided into two types: descriptive statistics and inferential statistics.\n",
    "\n",
    "# Descriptive Statistics:\n",
    "# Definition: Descriptive statistics summarize and describe the main features of a dataset.\n",
    "# Example: Calculating the average test score of students in a class to understand the overall performance.\n",
    "# Inferential Statistics:\n",
    "# Definition: Inferential statistics use sample data to make inferences or predictions about a population.\n",
    "# Example: Conducting a survey on a sample of voters to predict the outcome of an election."
   ]
  },
  {
   "cell_type": "code",
   "execution_count": 4,
   "id": "1148a6f6",
   "metadata": {},
   "outputs": [],
   "source": [
    "# Q3. What are the different types of data and how do they differ from each other? Provide an example of each type of data.\n",
    "# Data can be classified into two main types: qualitative (categorical) and quantitative (numerical).\n",
    "\n",
    "# Qualitative Data:\n",
    "\n",
    "# Definition: Qualitative data describe categories or groups and cannot be measured numerically.\n",
    "# Example: Colors of cars (red, blue, green).\n",
    "# Quantitative Data:\n",
    "\n",
    "# Definition: Quantitative data represent numerical values that can be measured and ordered.\n",
    "# Example: Heights of students in a class (160 cm, 170 cm, 180 cm)."
   ]
  },
  {
   "cell_type": "code",
   "execution_count": 5,
   "id": "f7ff9493",
   "metadata": {},
   "outputs": [],
   "source": [
    "# Q4. Categorise the following datasets with respect to quantitative and qualitative data types:\n",
    "# Grading in exam: A+, A, B+, B, C+, C, D, E\n",
    "\n",
    "# Qualitative Data (ordinal)\n",
    "# Colour of mangoes: yellow, green, orange, red\n",
    "\n",
    "# Qualitative Data (nominal)\n",
    "# Height data of a class: [178.9, 179, 179.5, 176, 177.2, 178.3, 175.8,...]\n",
    "\n",
    "# Quantitative Data (continuous)\n",
    "# Number of mangoes exported by a farm: [500, 600, 478,...]\n",
    "\n",
    "# Quantitative Data (discrete)"
   ]
  },
  {
   "cell_type": "code",
   "execution_count": 6,
   "id": "1c14f3bd",
   "metadata": {},
   "outputs": [],
   "source": [
    "# Q5. Explain the concept of levels of measurement and give an example of a variable for each level.\n",
    "# Levels of measurement describe the nature of information within the values assigned to variables. There are four levels:\n",
    "\n",
    "# Nominal:\n",
    "\n",
    "# Definition: Categories with no inherent order.\n",
    "# Example: Types of fruits (apple, banana, orange).\n",
    "# Ordinal:\n",
    "\n",
    "# Definition: Categories with a meaningful order but no consistent difference between categories.\n",
    "# Example: Class rankings (first, second, third).\n",
    "# Interval:\n",
    "\n",
    "# Definition: Numeric scales with equal intervals but no true zero point.\n",
    "# Example: Temperature in Celsius (20°C, 30°C).\n",
    "# Ratio:\n",
    "\n",
    "# Definition: Numeric scales with equal intervals and a true zero point.\n",
    "# Example: Weight (50 kg, 100 kg)."
   ]
  },
  {
   "cell_type": "code",
   "execution_count": 7,
   "id": "8b6d4848",
   "metadata": {},
   "outputs": [],
   "source": [
    "# Q6. Why is it important to understand the level of measurement when analyzing data? Provide an example to illustrate your answer.\n",
    "# Understanding the level of measurement is crucial because it determines the types of statistical analyses that can be performed and the conclusions that can be drawn.\n",
    "# For example, calculating the mean of nominal data (e.g., types of fruits) is meaningless, whereas calculating the mean of ratio data (e.g., weights) provides useful information about the dataset."
   ]
  },
  {
   "cell_type": "code",
   "execution_count": 8,
   "id": "689cc545",
   "metadata": {},
   "outputs": [],
   "source": [
    "# # Q7. How nominal data type is different from ordinal data type.\n",
    "# # Nominal data are categorical and have no inherent order, while ordinal data have categories with a meaningful order. \n",
    "# For instance, colors of fruits (nominal: red, green, yellow) cannot be ranked, whereas customer satisfaction levels (ordinal: dissatisfied, neutral, satisfied) have a natural order.\n",
    "\n",
    "# # Q8. Which type of plot can be used to display data in terms of range?\n",
    "# # A box plot (box-and-whisker plot) can be used to display data in terms of range.\n",
    "# It shows the minimum, first quartile, median, third quartile, and maximum of a dataset, \n",
    "# highlighting the range and any potential outliers."
   ]
  },
  {
   "cell_type": "code",
   "execution_count": 9,
   "id": "72179ed9",
   "metadata": {},
   "outputs": [],
   "source": [
    "# # Q9. Describe the difference between descriptive and inferential statistics. Give an example of each type of statistics and explain how they are used.\n",
    "# # Descriptive Statistics:\n",
    "\n",
    "# # Definition: Descriptive statistics summarize and describe the features of a dataset.\n",
    "# # Example: Calculating the mean and standard deviation of test scores to summarize the performance of students in a class.\n",
    "# # Use: Descriptive statistics provide a simple summary of the data, helping to understand the basic characteristics.\\\n",
    "\n",
    "\n",
    "# Inferential Statistics:\n",
    "\n",
    "# Definition: Inferential statistics use sample data to make predictions or inferences about a population.\n",
    "# Example: Using a sample survey to estimate the average income of a population.\n",
    "# Use: Inferential statistics help to make generalizations and predictions about a population based on sample data, including hypothesis testing and confidence intervals."
   ]
  },
  {
   "cell_type": "code",
   "execution_count": null,
   "id": "6dab3019",
   "metadata": {},
   "outputs": [],
   "source": [
    "# Q10. What are some common measures of central tendency and variability used in statistics? Explain how each measure can be used to describe a dataset.\n",
    "# Measures of Central Tendency:\n",
    "\n",
    "# Mean: The average of a dataset, used to represent the central value. (e.g., average income).\n",
    "# Median: The middle value when the data are ordered, used when the data have outliers. (e.g., median house price).\n",
    "# Mode: The most frequent value in a dataset, used for categorical data. (e.g., most common shoe size).\n",
    "# Measures of Variability:\n",
    "\n",
    "# Range: The difference between the maximum and minimum values, indicating the spread of the data. (e.g., range of test scores).\n",
    "# Variance: The average of the squared differences from the mean, showing the dispersion. (e.g., variance in monthly temperatures).\n",
    "# Standard Deviation: The square root of the variance, providing a measure of dispersion in the same units as the data. (e.g., standard deviation of ages).\n",
    "# Interquartile Range (IQR): The difference between the first and third quartiles, showing the spread of the middle 50% of the data. (e.g., IQR of incomes).\n",
    "# Understanding these measures helps in summarizing and interpreting data, identifying patterns, and making informed decisions.\n",
    "\n",
    "\n",
    "\n",
    "\n",
    "\n",
    "\n",
    "\n"
   ]
  }
 ],
 "metadata": {
  "kernelspec": {
   "display_name": "Python 3 (ipykernel)",
   "language": "python",
   "name": "python3"
  },
  "language_info": {
   "codemirror_mode": {
    "name": "ipython",
    "version": 3
   },
   "file_extension": ".py",
   "mimetype": "text/x-python",
   "name": "python",
   "nbconvert_exporter": "python",
   "pygments_lexer": "ipython3",
   "version": "3.9.12"
  }
 },
 "nbformat": 4,
 "nbformat_minor": 5
}

{
 "cells": [
  {
   "cell_type": "code",
   "execution_count": 1,
   "id": "7e045e89",
   "metadata": {},
   "outputs": [],
   "source": [
    "# Assignment : Statistics 2 :"
   ]
  },
  {
   "cell_type": "code",
   "execution_count": 2,
   "id": "31cc2b3c",
   "metadata": {},
   "outputs": [],
   "source": [
    "# Q1. What are the three measures of central tendency?\n",
    "# Q2. What is the difference between the mean, median, and mode? How are they used to measure the\n",
    "# central tendency of a dataset?\n",
    "# Q3. Measure the three measures of central tendency for the given height data:\n",
    "# [178,177,176,177,178.2,178,175,179,180,175,178.9,176.2,177,172.5,178,176.5]\n",
    "# Q4. Find the standard deviation for the given data:\n",
    "# [178,177,176,177,178.2,178,175,179,180,175,178.9,176.2,177,172.5,178,176.5]\n",
    "# Q5. How are measures of dispersion such as range, variance, and standard deviation used to describe\n",
    "# the spread of a dataset? Provide an example.\n",
    "# Q6. What is a Venn diagram?\n",
    "# Q7. For the two given sets A = (2,3,4,5,6,7) & B = (0,2,6,8,10). Find:\n",
    "# (i) A B\n",
    "# (ii) A ⋃ B\n",
    "# Q8. What do you understand about skewness in data?\n",
    "# Q9. If a data is right skewed then what will be the position of median with respect to mean?\n",
    "# Q10. Explain the difference between covariance and correlation. How are these measures used in\n",
    "# statistical analysis?\n",
    "# Q11. What is the formula for calculating the sample mean? Provide an example calculation for a\n",
    "# dataset.\n",
    "# Q12. For a normal distribution data what is the relationship between its measure of central tendency?\n",
    "# Q13. How is covariance different from correlation?\n",
    "# Q14. How do outliers affect measures of central tendency and dispersion? Provide an example."
   ]
  },
  {
   "cell_type": "code",
   "execution_count": 5,
   "id": "28b2c4f9",
   "metadata": {},
   "outputs": [],
   "source": [
    "# \n",
    "# Q1. What are the three measures of central tendency?\n",
    "\n",
    "# The three measures of central tendency are mean , median ,and mode .\n",
    "\n",
    "# MEAN : The mean, often referred to as the average, is calculated by summing all the values in a data set and then dividing by the number of values. \n",
    "# It is sensitive to extreme values (outliers) . \n",
    "\n",
    "\n",
    "# Median : The median is the middle value in a data set when the values are arranged in ascending or descending order. \n",
    "# If the number of values is even, The median is the average of the two middle numbers. It is less affected by outliers and skewed data\n",
    "\n",
    "\n",
    "# # Mode : The mode is the value that appears most frequently in a data set. \n",
    "# A data set may have one mode, more than one mode, or no mode at all. \n",
    "# It is particularly useful for categorical data where we wish to know the most common category\n",
    "\n"
   ]
  },
  {
   "cell_type": "code",
   "execution_count": 6,
   "id": "4f617d55",
   "metadata": {},
   "outputs": [],
   "source": [
    "# Q2. What is the difference between the mean, median, and mode? How are they used to measure the\n",
    "# central tendency of a dataset?"
   ]
  },
  {
   "cell_type": "code",
   "execution_count": 7,
   "id": "77435745",
   "metadata": {},
   "outputs": [],
   "source": [
    "# The mean, median, and mode are all measures of central tendency that describe the center or typical value of a dataset.\n",
    "# However, they differ in their definitions, calculations, and the types of insights they provide.\n",
    "\n",
    " # mean : the arithmetic average of dataset.\n",
    "    \n",
    "    # mean = sigma(xi)/n . < n : no.of datapoints) > \n",
    "    \n",
    "    # Usage: Best for symmetric distributions without outliers. Sensitive to extreme values.\n",
    "    \n",
    "    \n",
    "# median : The middle value when data is ordered.\n",
    "# Calculation:\n",
    "# For odd 𝑛 : Middle value.\n",
    "# For even n: Average of the two middle values.\n",
    "# Usage: Best for skewed distributions or data with outliers. Not affected by extreme values.\n",
    "    \n",
    "    \n",
    "# # Mode : The most frequently occurring value in a dataset.\n",
    "# Usage: Useful for categorical data and identifying the most common value. Can be used with any data type.    \n",
    "    \n",
    "    \n",
    "# The main Differences are : \n",
    "# Mean: Sensitive to outliers, suitable for interval/ratio data.\n",
    "# Median: Robust to outliers, suitable for ordinal/interval/ratio data.\n",
    "# Mode: Not affected by outliers, suitable for nominal/ordinal/interval/ratio data.    \n",
    "\n",
    "\n",
    "# Summary : \n",
    "\n",
    "# Mean gives the average value.\n",
    "# Median gives the middle value, better for skewed data.\n",
    "# Mode gives the most frequent value, useful for categorical data.\n"
   ]
  },
  {
   "cell_type": "code",
   "execution_count": 9,
   "id": "1754a09a",
   "metadata": {},
   "outputs": [
    {
     "data": {
      "text/plain": [
       "(177.01875, 177.0, 178)"
      ]
     },
     "execution_count": 9,
     "metadata": {},
     "output_type": "execute_result"
    }
   ],
   "source": [
    "# Q3. Measure the three measures of central tendency for the given height data:\n",
    "# [178,177,176,177,178.2,178,175,179,180,175,178.9,176.2,177,172.5,178,176.5]\n",
    "\n",
    "\n",
    "\n",
    "import statistics\n",
    "\n",
    "# Given data\n",
    "heights = [178, 177, 176, 177, 178.2, 178, 175, 179, 180, 175, 178.9, 176.2, 177, 172.5, 178, 176.5]\n",
    "\n",
    "# Calculating mean, median, and mode\n",
    "mean_height = statistics.mean(heights)\n",
    "median_height = statistics.median(heights)\n",
    "mode_height = statistics.mode(heights)\n",
    "\n",
    "mean_height, median_height, mode_height\n"
   ]
  },
  {
   "cell_type": "code",
   "execution_count": 10,
   "id": "7ca72482",
   "metadata": {},
   "outputs": [],
   "source": [
    "# Q4. Find the standard deviation for the given data:\n",
    "# [178,177,176,177,178.2,178,175,179,180,175,178.9,176.2,177,172.5,178,176.5]"
   ]
  },
  {
   "cell_type": "code",
   "execution_count": null,
   "id": "6bdff835",
   "metadata": {},
   "outputs": [],
   "source": [
    "\n"
   ]
  },
  {
   "cell_type": "code",
   "execution_count": 12,
   "id": "75e0a6e1",
   "metadata": {},
   "outputs": [
    {
     "data": {
      "text/plain": [
       "1.7885814036548633"
      ]
     },
     "execution_count": 12,
     "metadata": {},
     "output_type": "execute_result"
    }
   ],
   "source": [
    "import numpy as np\n",
    "\n",
    "# Given height data\n",
    "heights = [178, 177, 176, 177, 178.2, 178, 175, 179, 180, 175, 178.9, 176.2, 177, 172.5, 178, 176.5]\n",
    "\n",
    "# Calculate the standard deviation\n",
    "std_deviation = np.std(heights)\n",
    "\n",
    "std_deviation\n"
   ]
  },
  {
   "cell_type": "code",
   "execution_count": 13,
   "id": "87f1662a",
   "metadata": {},
   "outputs": [],
   "source": [
    "# Q5. How are measures of dispersion such as range, variance, and standard deviation used to describe\n",
    "# the spread of a dataset? Provide an example."
   ]
  },
  {
   "cell_type": "code",
   "execution_count": 14,
   "id": "469e1706",
   "metadata": {},
   "outputs": [],
   "source": [
    "# # Measures of dispersion such as range, variance, and standard deviation are used to describe the spread or variability of a dataset. These measures give us an understanding of how much the data points differ from each other and from the central tendency (mean, median, mode) of the dataset. Here is a brief explanation of each measure with an example:\n",
    "\n",
    "# # ### 1. Range\n",
    "# # The range is the simplest measure of dispersion and is the difference between the maximum and minimum values in a dataset. It gives a quick sense of the spread but is sensitive to outliers.\n",
    "\n",
    "# # Range = maximum - minimum \n",
    "\n",
    "# for Example:\n",
    "# Consider the dataset of heights: ([178, 177, 176, 177, 178.2, 178, 175, 179, 180, 175, 178.9, 176.2, 177, 172.5, 178, 176.5])\n",
    "\n",
    "# Maximum value: 180  \n",
    "# Minimum value: 172.5\n",
    "\n",
    "# [{Range} = 180 - 172.5 = 7.5 ]\n",
    "\n",
    "# ### 2. Variance\n",
    "# # Variance measures the average squared deviation of each data point from the mean.\n",
    "# # It provides a sense of how much the data points spread out around the mean. \n",
    "# # A higher variance indicates greater dispersion.\n",
    "\n",
    "# # Formula:\n",
    "    \n",
    "# #     variance = 1/n( sigma(Xi-X_bar)^2\n",
    "\n",
    "\n",
    "\n",
    "# ### 3. Standard Deviation\n",
    "# # The standard deviation is the square root of the variance and provides a measure of dispersion in the same units as the data, making it more interpretable. It indicates how much the data points typically deviate from the mean.\n",
    "\n",
    "# Formula:\n",
    "#     [{Standard Deviation} = sqrt{{Variance}}]\n",
    "\n",
    "# Example:\n",
    "# Using the variance calculated above (approximately 3.51):\n",
    "# [{Standard Deviation} = sqrt{3.51}] = 1.87\n",
    "\n",
    "# ### Summary\n",
    "# These measures provide different insights into the spread of the data:\n",
    "# - Range > gives a quick overview but can be misleading with outliers.\n",
    "# - Variance > gives a more detailed measure by considering each data point's deviation from the mean but is in squared units.\n",
    "# - Standard Deviation > is more interpretable as it is in the same units as the data and provides a clear measure of typical deviation from the mean.\n",
    "\n",
    "# ### Example Interpretation\n",
    "# Using the same dataset:\n",
    "# - Range: 7.5 indicates the difference between the tallest and shortest heights.\n",
    "# - Variance: Approximately 3.51 shows the average squared deviation from the mean height.\n",
    "# - Standard Deviation: Approximately 1.87 shows the average deviation from the mean height in the same units (centimeters).\n",
    "\n",
    "# These measures together help us understand the variability and consistency of the heights in the dataset."
   ]
  },
  {
   "cell_type": "code",
   "execution_count": 15,
   "id": "25f10bbe",
   "metadata": {},
   "outputs": [],
   "source": [
    "# Q6. What is a Venn diagram?"
   ]
  },
  {
   "cell_type": "code",
   "execution_count": 16,
   "id": "4924edca",
   "metadata": {},
   "outputs": [],
   "source": [
    "# Venn diagram is a graphical representation used to show the relationships between different sets. It consists of circles or other shapes that overlap to represent the logical relationships and commonalities between the sets. Each set is depicted as a circle, and the overlap between circles indicates the elements that are common to the sets.\n",
    "\n",
    "# Key Features of Venn Diagrams\n",
    "\n",
    "# Circles or Shapes: Each set is represented by a circle. The entire area of a circle represents all the elements in the set.\n",
    "# Overlap: The overlapping areas between circles represent the elements that are common to the sets.\n",
    "# Non-overlapping Areas: These represent elements that are unique to each set.\n",
    "# Universal Set: Sometimes, a rectangle enclosing all the circles represents the universal set, which includes all possible elements under consideration.\n",
    "# Uses of Venn Diagrams\n",
    "# Set Theory: To illustrate unions, intersections, and differences of sets.\n",
    "# Probability: To show events and their probabilities, including joint probabilities.\n",
    "# Logic: To represent logical relationships and operations.\n",
    "# Classification: To classify objects based on different properties or categories.\n",
    "# Problem Solving: To visually organize information and solve problems involving sets.\n",
    "# Example\n",
    "# Consider three sets:\n",
    "\n",
    "# Set A: Students who play soccer\n",
    "# Set B: Students who play basketball\n",
    "# Set C: Students who play tennis\n",
    "# A Venn diagram with three overlapping circles can show:\n",
    "\n",
    "# Students who play only soccer (circle A, outside of B and C)\n",
    "# Students who play only basketball (circle B, outside of A and C)\n",
    "# Students who play only tennis (circle C, outside of A and B)\n",
    "# Students who play both soccer and basketball (overlap between circles A and B)\n",
    "# Students who play both soccer and tennis (overlap between circles A and C)\n",
    "# Students who play both basketball and tennis (overlap between circles B and C)\n",
    "# Students who play all three sports (overlap among circles A, B, and C)"
   ]
  },
  {
   "cell_type": "code",
   "execution_count": 17,
   "id": "1727f13e",
   "metadata": {},
   "outputs": [],
   "source": [
    "# # Q7. For the two given sets A = (2,3,4,5,6,7) & B = (0,2,6,8,10). Find:\n",
    "# # (i) A B\n",
    "# # (ii) A ⋃ B\n",
    "\n",
    "# i) AB : {2,6}\n",
    "# ii) A U B : {0,2,3,4,5,6,7,8,10}"
   ]
  },
  {
   "cell_type": "code",
   "execution_count": 18,
   "id": "a5848c3f",
   "metadata": {},
   "outputs": [],
   "source": [
    "# Q8. What do you understand about skewness in data?\n",
    "# Q9. If a data is right skewed then what will be the position of median with respect to mean?\n",
    "# Q10. Explain the difference between covariance and correlation. How are these measures used in\n",
    "# statistical analysis?\n",
    "# Q11. What is the formula for calculating the sample mean? Provide an example calculation for a\n",
    "# dataset.\n",
    "# Q12. For a normal distribution data what is the relationship between its measure of central tendency?\n",
    "# Q13. How is covariance different from correlation?\n",
    "# Q14. How do outliers affect measures of central tendency and dispersion? Provide an example."
   ]
  },
  {
   "cell_type": "code",
   "execution_count": 19,
   "id": "14fc4310",
   "metadata": {},
   "outputs": [],
   "source": [
    "# Q8. What do you understand about skewness in data?\n"
   ]
  },
  {
   "cell_type": "code",
   "execution_count": 20,
   "id": "be729a36",
   "metadata": {},
   "outputs": [],
   "source": [
    "# ### Understanding Skewness in Data\n",
    "\n",
    "# Skewness is a measure of the asymmetry of the probability distribution of a real-valued random variable about its mean.\n",
    "# It describes the direction and degree of skew (departure from horizontal symmetry).\n",
    "\n",
    "# ### Types of Skewness\n",
    "\n",
    "# 1. Positive Skewness (Right Skewed)\n",
    "#    - Characteristics :The right tail (higher values) is longer or fatter than the left tail.\n",
    "#    - Implication :The mean is greater than the median.\n",
    "#    - Example: Income distribution in many countries where a small number of people earn significantly higher incomes than the majority.\n",
    "\n",
    "# 2. Negative Skewness (Left Skewed\n",
    "#    - Characteristics The left tail (lower values) is longer or fatter than the right tail.\n",
    "#    - Implication The mean is less than the median.\n",
    "#    - Example Age at retirement, where most people retire around a certain age but some retire much earlier.\n",
    "\n",
    "# 3. No Skewness (Symmetrical\n",
    "#    - Characteristics The left and right tails are mirror images of each other.\n",
    "#    - Implication The mean and median are approximately equal.\n",
    "#    - Example Heights of adult males in a population, assuming a normal distribution.\n",
    "\n",
    "# ### Measuring Skewness\n",
    "\n",
    "# Skewness is quantified as follows:\n",
    "\n",
    "# - Positive Skewness Skewness > 0\n",
    "# - Negative Skewness Skewness < 0\n",
    "# - Symmetrical Distribution Skewness ≈ 0\n",
    "\n",
    "\n",
    "# ### Interpretation\n",
    "\n",
    "# - Positive Skew Data has a longer tail on the right.\n",
    "# - Negative Skew Data has a longer tail on the left.\n",
    "# - Zero Skew Data is perfectly symmetrical.\n",
    "\n",
    "# ### Example\n",
    "\n",
    "# Consider the distribution of exam scores for a class:\n",
    "# - Positively Skewed If most students score low to moderate marks and only a few score very high marks, the distribution is right-skewed.\n",
    "# - Negatively Skewed If most students score high marks and only a few score very low marks, the distribution is left-skewed.\n",
    "\n",
    "# ### Importance in Statistics\n",
    "\n",
    "# Understanding skewness is crucial for:\n",
    "# - Choosing the appropriate statistical methods and tests.\n",
    "# - Understanding the underlying distribution of the data.\n",
    "# - Making informed decisions based on data analysis.\n",
    "\n",
    "# In summary, skewness helps in understanding the asymmetry and the tail behavior of the data, which is vital for accurate statistical analysis and interpretation."
   ]
  },
  {
   "cell_type": "code",
   "execution_count": 21,
   "id": "01b35e9f",
   "metadata": {},
   "outputs": [],
   "source": [
    "# Q9. If a data is right skewed then what will be the position of median with respect to mean?\n"
   ]
  },
  {
   "cell_type": "code",
   "execution_count": 22,
   "id": "83e9726e",
   "metadata": {},
   "outputs": [],
   "source": [
    "# In a right-skewed distribution, the tail of the distribution extends towards the right, meaning there are some very high values pulling the mean to the right. Because of this skewness, the mean will be greater than the median. The median is less affected by extreme values, so it tends to be closer to the center of the distribution compared to the mean.\n",
    "# Therefore, in a right-skewed distribution, the median will be positioned to the left of the mean."
   ]
  },
  {
   "cell_type": "code",
   "execution_count": 23,
   "id": "3cbfe3c0",
   "metadata": {},
   "outputs": [],
   "source": [
    "# Q10. Explain the difference between covariance and correlation. How are these measures used in\n",
    "# statistical analysis?"
   ]
  },
  {
   "cell_type": "code",
   "execution_count": 24,
   "id": "45d616c0",
   "metadata": {},
   "outputs": [],
   "source": [
    "# Covariance and correlation are both measures used to quantify the relationship between two variables in statistics, particularly in data analysis and modeling. However, they have some fundamental differences:\n",
    "\n",
    "# 1.Covariance:\n",
    "#    - Covariance measures the degree to which two variables change together. If the covariance is positive, it indicates that when one variable increases, the other tends to increase as well. If it's negative, it means that when one variable increases, the other tends to decrease.\n",
    "#    - Covariance is not standardized, meaning its value is dependent on the units of the variables being measured. Therefore, it's not very interpretable in terms of the strength of the relationship.\n",
    "#    - The formula for covariance between two variables X and Y, with sample size n, is:\n",
    "    \n",
    "#     cov(x,y) = sigma(xi-x_bar)(yi-y_bar)/(n-1) ( ranging from i = 1 to n).\n",
    "\n",
    "# 2. Correlation:\n",
    "#    - Correlation, on the other hand, standardizes the measure of the relationship between two variables. It provides a more interpretable measure because it's dimensionless and ranges between -1 and 1.\n",
    "#    - A correlation of +1 indicates a perfect positive linear relationship, -1 indicates a perfect negative linear relationship, and 0 indicates no linear relationship.\n",
    "#    - Correlation is calculated by dividing the covariance by the product of the standard deviations of the variables. The formula for correlation between two variables X and Y is:\n",
    "#     eg :     cor(x,y) = cov(x,y)/sx,sy , sx : standard deviation of x , sy : standard deviation of y.\n",
    "\n",
    "\n",
    "# In statistical analysis, covariance and correlation are used for different purposes:\n",
    "# - Covariance is used to understand the direction of the relationship between two variables and the magnitude of this relationship. However, its interpretation is limited because it's not standardized.\n",
    "# - Correlation, being standardized, is more widely used as it provides a more interpretable measure of the strength and direction of the linear relationship between variables.\n",
    "# It's commonly used in fields such as economics, finance, biology, and social sciences for analyzing associations between variables."
   ]
  },
  {
   "cell_type": "code",
   "execution_count": 26,
   "id": "c832b9f4",
   "metadata": {},
   "outputs": [],
   "source": [
    "#  Q11. What is the formula for calculating the sample mean? Provide an example calculation for a\n",
    "# # dataset."
   ]
  },
  {
   "cell_type": "code",
   "execution_count": 28,
   "id": "c64a0468",
   "metadata": {},
   "outputs": [
    {
     "ename": "SyntaxError",
     "evalue": "invalid syntax (1469709877.py, line 3)",
     "output_type": "error",
     "traceback": [
      "\u001b[1;36m  Input \u001b[1;32mIn [28]\u001b[1;36m\u001b[0m\n\u001b[1;33m    xi :  represents each individual observation in the dataset.\u001b[0m\n\u001b[1;37m                     ^\u001b[0m\n\u001b[1;31mSyntaxError\u001b[0m\u001b[1;31m:\u001b[0m invalid syntax\n"
     ]
    }
   ],
   "source": [
    "# x_bar = sigma(xi)/n\n",
    "\n",
    "# xi :  represents each individual observation in the dataset.\n",
    "# 𝑛  : n is the total number of observations in the dataset.\n",
    "    \n",
    "    \n",
    "#     Let's say we have the following dataset representing the heights of 5 students in centimeters: 160, 165, 170, 155, 175\n",
    "    \n",
    "#     x_bar = (160+165+170+155+165)/5 =  165\n",
    "    \n",
    "    "
   ]
  },
  {
   "cell_type": "code",
   "execution_count": 29,
   "id": "4e9c1c08",
   "metadata": {},
   "outputs": [],
   "source": [
    "# Q12. For a normal distribution data what is the relationship between its measure of central tendency?\n",
    "# Q13. How is covariance different from correlation?\n",
    "# Q14. How do outliers affect measures of central tendency and dispersion? Provide an example."
   ]
  },
  {
   "cell_type": "code",
   "execution_count": 30,
   "id": "2c35be4b",
   "metadata": {},
   "outputs": [],
   "source": [
    "# # For a normal distribution, the measures of central tendency, namely the mean, median, and mode, are all equal.\n",
    "\n",
    "# In a normal distribution:\n",
    "# - The mean (average) is at the center of the distribution.\n",
    "# - The median (middle value) is also at the center of the distribution since the normal distribution is symmetric.\n",
    "# - The mode (most frequent value) is also at the center of the distribution because the tails of the normal distribution taper off gradually, making the peak the most frequent value.\n",
    "\n",
    "# So, for a normal distribution, the mean, median, and mode are all located at the same point, making them equal."
   ]
  },
  {
   "cell_type": "code",
   "execution_count": 31,
   "id": "158ba34b",
   "metadata": {},
   "outputs": [],
   "source": [
    "# Q13. How is covariance different from correlation?\n"
   ]
  },
  {
   "cell_type": "code",
   "execution_count": 32,
   "id": "21f74494",
   "metadata": {},
   "outputs": [],
   "source": [
    "# Covariance and correlation are both measures used to quantify the relationship between two variables, but they have some fundamental differences:\n",
    "\n",
    "# 1. Definition:\n",
    "#    - Covariance measures the degree to which two variables change together. It indicates the direction of the linear relationship between the variables (positive or negative) and the magnitude of this relationship.\n",
    "#    - Correlation measures the strength and direction of the linear relationship between two variables. It provides a standardized measure that ranges from -1 to 1, where +1 indicates a perfect positive linear relationship, -1 indicates a perfect negative linear relationship, and 0 indicates no linear relationship.\n",
    "\n",
    "# 2. Scale:\n",
    "#    - Covariance is not standardized, meaning its value is dependent on the units of the variables being measured. Therefore, it's not directly interpretable in terms of the strength of the relationship.\n",
    "#    - Correlation is standardized, meaning its value is not influenced by the scale of the variables. This makes correlation more interpretable as it provides a consistent measure of the strength and direction of the relationship.\n",
    "\n",
    "# 3. Interpretation:\n",
    "#    - Covariance does not provide a clear interpretation of the strength of the relationship between variables due to its dependency on the scale of the variables.\n",
    "#    - Correlation provides a more interpretable measure of the strength and direction of the relationship between variables, allowing for easier comparisons across different datasets.\n",
    "\n",
    "# 4. Range:\n",
    "#    - Covariance can take any value from negative infinity to positive infinity, depending on the scale and relationship between the variables.\n",
    "#    - Correlation ranges from -1 to 1, where values closer to -1 or 1 indicate stronger relationships and values closer to 0 indicate weaker relationships or no relationship at all.\n",
    "\n",
    "# In summary, while both covariance and correlation quantify the relationship between two variables, correlation provides a more standardized and interpretable measure of this relationship, making it more widely used in statistical analysis and interpretation."
   ]
  },
  {
   "cell_type": "code",
   "execution_count": 33,
   "id": "d732c5cd",
   "metadata": {},
   "outputs": [],
   "source": [
    "# Q14. How do outliers affect measures of central tendency and dispersion? Provide an example."
   ]
  },
  {
   "cell_type": "code",
   "execution_count": 34,
   "id": "b0ede490",
   "metadata": {},
   "outputs": [],
   "source": [
    "# Outliers can significantly affect measures of central tendency and dispersion in a dataset. Here's how they impact each:\n",
    "\n",
    "# Measures of Central Tendency:\n",
    "\n",
    "# Outliers can greatly influence the mean since it's sensitive to extreme values. A single outlier can pull the mean towards it, affecting its accuracy in representing the central value of the dataset.\n",
    "# The median is less affected by outliers since it's not influenced by extreme values. Therefore, in the presence of outliers, the median might be a more reliable measure of central tendency than the mean.\n",
    "# The mode may or may not be affected, depending on the number and distribution of outliers. If the outliers are unique and distant from the rest of the data, they may not affect the mode.\n",
    "# Measures of Dispersion:\n",
    "\n",
    "# Outliers can significantly impact measures of dispersion such as the range, variance, and standard deviation. The range, for instance, can be greatly distorted by outliers, as it's simply the difference between the maximum and minimum values in the dataset.\n",
    "# Variance and standard deviation are both influenced by the squared differences between individual data points and the mean. Since outliers can be far from the mean, they can inflate these measures, making them less representative of the typical spread of the data.\n",
    "# Interquartile range (IQR), which is less affected by outliers since it focuses on the middle 50% of the data, might be a more robust measure of dispersion in the presence of outliers.\n",
    "\n",
    "\n"
   ]
  },
  {
   "cell_type": "code",
   "execution_count": 35,
   "id": "311e3d96",
   "metadata": {},
   "outputs": [
    {
     "name": "stdout",
     "output_type": "stream",
     "text": [
      "With Outlier:\n",
      "Mean salary: 375000.0\n",
      "Median salary: 52500.0\n",
      "Range: 1960000\n",
      "\n",
      "Without Outlier:\n",
      "Mean salary: 50000.0\n",
      "Median salary: 50000.0\n",
      "Range: 20000\n"
     ]
    }
   ],
   "source": [
    "import numpy as np\n",
    "\n",
    "# Define the dataset with and without outlier\n",
    "salaries_with_outlier = np.array([40000, 45000, 50000, 55000, 60000, 2000000])\n",
    "salaries_without_outlier = np.array([40000, 45000, 50000, 55000, 60000])\n",
    "\n",
    "# Calculate mean\n",
    "mean_with_outlier = np.mean(salaries_with_outlier)\n",
    "mean_without_outlier = np.mean(salaries_without_outlier)\n",
    "\n",
    "# Calculate median\n",
    "median_with_outlier = np.median(salaries_with_outlier)\n",
    "median_without_outlier = np.median(salaries_without_outlier)\n",
    "\n",
    "# Calculate range\n",
    "range_with_outlier = np.ptp(salaries_with_outlier)\n",
    "range_without_outlier = np.ptp(salaries_without_outlier)\n",
    "\n",
    "print(\"With Outlier:\")\n",
    "print(\"Mean salary:\", mean_with_outlier)\n",
    "print(\"Median salary:\", median_with_outlier)\n",
    "print(\"Range:\", range_with_outlier)\n",
    "\n",
    "print(\"\\nWithout Outlier:\")\n",
    "print(\"Mean salary:\", mean_without_outlier)\n",
    "print(\"Median salary:\", median_without_outlier)\n",
    "print(\"Range:\", range_without_outlier)\n"
   ]
  },
  {
   "cell_type": "code",
   "execution_count": null,
   "id": "61918bcb",
   "metadata": {},
   "outputs": [],
   "source": []
  }
 ],
 "metadata": {
  "kernelspec": {
   "display_name": "Python 3 (ipykernel)",
   "language": "python",
   "name": "python3"
  },
  "language_info": {
   "codemirror_mode": {
    "name": "ipython",
    "version": 3
   },
   "file_extension": ".py",
   "mimetype": "text/x-python",
   "name": "python",
   "nbconvert_exporter": "python",
   "pygments_lexer": "ipython3",
   "version": "3.9.12"
  }
 },
 "nbformat": 4,
 "nbformat_minor": 5
}

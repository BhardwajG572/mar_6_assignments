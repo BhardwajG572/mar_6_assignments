{
 "cells": [
  {
   "cell_type": "code",
   "execution_count": 1,
   "id": "287b64a4",
   "metadata": {},
   "outputs": [],
   "source": [
    "# Q1: What are the Probability Mass Function (PMF) and Probability Density Function (PDF)? Explain with\n",
    "# an example.\n",
    "# Q2: What is Cumulative Density Function (CDF)? Explain with an example. Why CDF is used?\n",
    "# Q3: What are some examples of situations where the normal distribution might be used as a model?\n",
    "# Explain how the parameters of the normal distribution relate to the shape of the distribution.\n",
    "# Q4: Explain the importance of Normal Distribution. Give a few real-life examples of Normal\n",
    "# Distribution.\n",
    "# Q5: What is Bernaulli Distribution? Give an Example. What is the difference between Bernoulli\n",
    "# Distribution and Binomial Distribution?\n",
    "# Q6. Consider a dataset with a mean of 50 and a standard deviation of 10. If we assume that the dataset\n",
    "# is normally distributed, what is the probability that a randomly selected observation will be greater\n",
    "# than 60? Use the appropriate formula and show your calculations.\n",
    "# Q7: Explain uniform Distribution with an example.\n",
    "# Q8: What is the z score? State the importance of the z score.\n",
    "# Q9: What is Central Limit Theorem? State the significance of the Central Limit Theorem.\n",
    "# # Q10: State the assumptions of the Central Limit Theorem."
   ]
  },
  {
   "cell_type": "code",
   "execution_count": 3,
   "id": "f5a3f962",
   "metadata": {},
   "outputs": [],
   "source": [
    "# Q.1 : The PMF is used for discreate random variables , it also gives the probability that a discreae random varialbes,\n",
    "#     exactly equal to some value.\n",
    "#     Eg.suppose we have a fair six-sided die. Let X be the random variable representing the outcome when the die is rolled.\n",
    "#     The possible values of X are 1,2,3,4,5,6 .since the die is fair, each out come has an equal probability of 1/6. The PMF of X is\n",
    "#     The PMF of X is  : \n",
    "        \n",
    "#         P(X=x) = { 1/6 if x belongs {1,2,3,4,5,6}\n",
    "#                    0    otherwise               }\n",
    "\n",
    "# The PDF is used for continuous random variables.\n",
    "\n",
    "# It describes the relative likelihood of a random variable to take on a given value.\n",
    "\n",
    "# The value of the PDF at any given point is not the probability itself, but the probability density.\n"
   ]
  },
  {
   "cell_type": "code",
   "execution_count": 8,
   "id": "d076d8b5",
   "metadata": {},
   "outputs": [],
   "source": [
    "# Q.2\n",
    "# The CDF describes the probability that a random variable 𝑋\n",
    "# X will take a value less than or equal to x. for a random variable X , the CDF F(X) = P(X<=x)\n",
    "\n",
    "# Example:\n",
    "# If we have a random variable \n",
    "# 𝑋\n",
    "# X representing the outcome of a six-sided die roll, the CDF at \n",
    "\n",
    "# 𝑥=3 would be the sum of the probabilities for outcomes 1, 2, and 3:\n",
    "#     F(3) = P(X<=3) = P(X=1)+P(X=2)+P(X=3) = 1/6+1/6+1/6 = 1/2.\n",
    "\n",
    "# The CDF provides a complete description of the distribution of a random variable.\n",
    "# It is used to determine the probability that a random variable falls within a particular range.\n",
    "# It is useful in statistical analysis and hypothesis testing."
   ]
  },
  {
   "cell_type": "code",
   "execution_count": 9,
   "id": "b436189d",
   "metadata": {},
   "outputs": [],
   "source": [
    "## Q3: What are some examples of situations where the normal distribution might be used as a model?\n"
   ]
  },
  {
   "cell_type": "code",
   "execution_count": 10,
   "id": "bfc5c25b",
   "metadata": {},
   "outputs": [],
   "source": [
    "# Examples of Normal Distribution:\n",
    "\n",
    "# >Heights of people\n",
    "# >IQ scores\n",
    "# >Measurement errors\n",
    "# >Blood pressure readings\n",
    "# >Test scores in large populations\n",
    "# >Parameters of the Normal Distribution:\n",
    "\n",
    "# The mean (μ) determines the center of the distribution.\n",
    "\n",
    "# The standard deviation (σ) determines the spread or width of the distribution.\n",
    "\n",
    "# Shape:\n",
    "\n",
    "# A higher 𝜎 results in a wider and flatter curve.\n",
    "# A lower 𝜎 results in a narrower and taller curve.\n",
    "# The curve is symmetric about the mean."
   ]
  },
  {
   "cell_type": "code",
   "execution_count": 11,
   "id": "0ff93b20",
   "metadata": {},
   "outputs": [],
   "source": [
    "#Q .4\n",
    "# Importance of Normal Distribution:\n",
    "\n",
    "# Many natural phenomena follow a normal distribution.\n",
    "# The normal distribution has nice mathematical properties that make it easy to work with.\n",
    "# It is used in inferential statistics to make conclusions about populations from samples.\n",
    "\n",
    "# Real-life Examples:\n",
    "\n",
    "# Heights of adult males and females.\n",
    "# Blood pressure readings.\n",
    "# Measurement errors in scientific experiments.\n",
    "# Scores on standardized tests like the SAT or GRE."
   ]
  },
  {
   "cell_type": "code",
   "execution_count": 12,
   "id": "96b98f44",
   "metadata": {},
   "outputs": [],
   "source": [
    "# # Q.5\n",
    "# Bernoulli Distribution:\n",
    "\n",
    "# Describes the outcome of a single trial with two possible outcomes: success (1) and failure (0).\n",
    "# Has a single parameter 𝑝, which is the probability of success.\n",
    "# eg. Tossing a fair coint where heads is success 1 and tails is failure 0 . P(x=1) = p = 0.5\n",
    "\n",
    "# Difference between Bernoulli and Binomial Distribution:\n",
    "\n",
    "# The Bernoulli distribution describes a single trial.\n",
    "# The Binomial distribution describes the number of successes in n independent Bernoulli trials.\n",
    "# Binomial distribution has two parameters: \n",
    "# n (number of trials) and p (probability of success)"
   ]
  },
  {
   "cell_type": "code",
   "execution_count": 13,
   "id": "621d72dc",
   "metadata": {},
   "outputs": [],
   "source": [
    "# # Q.6 : z-score : z =(x-mean)/sigma\n",
    "# x = 60 , mean = 50 and sigma =10\n",
    "# z = (60-50)/10 = 1: \n",
    "#     P(Z<=1) = 0.8413\n",
    "#     p(x>60) = p((x-mean)/sigma>1) = p(z>1) = 1-p(z<=1) = 1-0.8413 = 0.1587\n",
    "    "
   ]
  },
  {
   "cell_type": "code",
   "execution_count": 15,
   "id": "aeae293b",
   "metadata": {},
   "outputs": [],
   "source": [
    "# # Q.7 : \n",
    "# Uniform Distribution:\n",
    "\n",
    "# All outcomes are equally likely.\n",
    "\n",
    "# For a continuous uniform distribution between \n",
    "# a and b, the PDF is f(x) = {1/(b-a) if a<=x<=b\n",
    "#                              0      otherwise}\n",
    "\n",
    "# example : rolling  a fair six-sided die. Each outcome {1,2,3,4,5,6} has an equal probabiity of 1/6\n",
    "    "
   ]
  },
  {
   "cell_type": "code",
   "execution_count": 19,
   "id": "6df0e52a",
   "metadata": {},
   "outputs": [],
   "source": [
    "# # Q.8:\n",
    "# z-score measures of how many standard deviations an element is from the mean.\n",
    "\n",
    "# Z = (x-mean)/sigma\n",
    "# importance of z -score : \n",
    "#     >Standardizes different datasets for comparison.\n",
    "#     >Helps identify outliers.\n",
    "#     >Used in the calculation of probabilities in a normal distribution.\n",
    "    "
   ]
  },
  {
   "cell_type": "code",
   "execution_count": 20,
   "id": "dbe69d30",
   "metadata": {},
   "outputs": [],
   "source": [
    "# Q.9"
   ]
  },
  {
   "cell_type": "code",
   "execution_count": 21,
   "id": "b695a9d9",
   "metadata": {},
   "outputs": [],
   "source": [
    "# Central Limit Theorem (CLT):\n",
    "\n",
    "# >States that the sampling distribution of the sample mean approaches a normal distribution as the sample size increases, regardless of the population's distribution.\n",
    "\n",
    "# >For a sufficiently large sample size, the distribution of the sample mean will be approximately normal with mean \n",
    "#  μ and standard deviation 𝜎/(n)^0.5.\n",
    "\n",
    "# Significance:\n",
    "\n",
    "# >Allows the use of normal distribution to make inferences about population parameters.\n",
    "# >Justifies the use of hypothesis testing and confidence intervals."
   ]
  },
  {
   "cell_type": "code",
   "execution_count": 23,
   "id": "84d963f4",
   "metadata": {},
   "outputs": [],
   "source": [
    "# Q.10\n",
    "\n",
    "# Assumptions of the Central Limit Theorem:\n",
    "\n",
    "# Samples must be independent.\n",
    "# Sample size should be sufficiently large (commonly 𝑛>30 is considered adequate).\n",
    "# The population from which samples are drawn should have a finite mean and variance.\n",
    "# Understanding these concepts is essential for analyzing and interpreting data in statistics and probability theory."
   ]
  },
  {
   "cell_type": "code",
   "execution_count": null,
   "id": "79d4046b",
   "metadata": {},
   "outputs": [],
   "source": []
  }
 ],
 "metadata": {
  "kernelspec": {
   "display_name": "Python 3 (ipykernel)",
   "language": "python",
   "name": "python3"
  },
  "language_info": {
   "codemirror_mode": {
    "name": "ipython",
    "version": 3
   },
   "file_extension": ".py",
   "mimetype": "text/x-python",
   "name": "python",
   "nbconvert_exporter": "python",
   "pygments_lexer": "ipython3",
   "version": "3.9.12"
  }
 },
 "nbformat": 4,
 "nbformat_minor": 5
}

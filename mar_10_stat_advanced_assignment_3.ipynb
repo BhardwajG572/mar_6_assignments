{
 "cells": [
  {
   "cell_type": "code",
   "execution_count": 1,
   "id": "a66e8c64",
   "metadata": {},
   "outputs": [],
   "source": [
    "# Q1: What is Estimation Statistics? Explain point estimate and interval estimate.\n",
    "# Q2. Write a Python function to estimate the population mean using a sample mean and standard\n",
    "# deviation.\n",
    "# Q3: What is Hypothesis testing? Why is it used? State the importance of Hypothesis testing.\n",
    "# Q4. Create a hypothesis that states whether the average weight of male college students is greater than\n",
    "# the average weight of female college students.\n",
    "# Q5. Write a Python script to conduct a hypothesis test on the difference between two population means,\n",
    "# # given a sample from each population"
   ]
  },
  {
   "cell_type": "markdown",
   "id": "2415e371",
   "metadata": {},
   "source": [
    "<!-- Estimation statistics is a branch of statistics that deals with estimating the value of a population parameter based on sample data. This involves using sample data to make inferences about the characteristics of a larger population. Estimation statistics helps to summarize the sample data and make predictions or inferences about the population parameters.\n",
    "\n",
    "Point Estimate:\n",
    "A point estimate is a single value estimate of a population parameter. It provides a single value as the best guess for the parameter of interest. For example, the sample mean (x_bar) is often used as a point estimate of the population mean (μ).\n",
    "\n",
    "Interval Estimate:\n",
    "An interval estimate provides a range of values within which the population parameter is expected to lie, with a certain level of confidence. This range is known as a confidence interval. For example, a 95% confidence interval for the population mean might be (50, 60), meaning we are 95% confident that the true population mean lies within this interval. -->"
   ]
  },
  {
   "cell_type": "code",
   "execution_count": 2,
   "id": "52d96fca",
   "metadata": {},
   "outputs": [],
   "source": [
    "# Estimation Statistics:\n",
    "# Estimation statistics is a branch of statistics that deals with estimating \n",
    "# the value of a population parameter based on sample data. \n",
    "# This involves using sample data to make inferences about the characteristics of a larger population.\n",
    "# Estimation statistics helps to summarize the sample data and make predictions or inferences about the population parameters.\n",
    "\n",
    "# Point Estimate:\n",
    "# A point estimate is a single value estimate of a population parameter.\n",
    "# It provides a single value as the best guess for the parameter of interest. \n",
    "# For example, the sample mean x_bar  is often used as a point estimate of the population mean (μ).\n",
    "\n",
    "# Interval Estimate:\n",
    "# An interval estimate provides a range of values within which the population parameter is \n",
    "# expected to lie, with a certain level of confidence. This range is known as a confidence interval. \n",
    "# For example, a 95% confidence interval for the population mean might be (50, 60), meaning we are 95% confident that\n",
    "# the true population mean lies within this interval."
   ]
  },
  {
   "cell_type": "code",
   "execution_count": 3,
   "id": "5087afee",
   "metadata": {},
   "outputs": [],
   "source": [
    "# Q2. Write a Python function to estimate the population mean using a sample mean and standard\n",
    "# # deviation."
   ]
  },
  {
   "cell_type": "code",
   "execution_count": 4,
   "id": "5a4051fe",
   "metadata": {},
   "outputs": [
    {
     "name": "stdout",
     "output_type": "stream",
     "text": [
      "Sample Mean: 5.357142857142857\n",
      "95% Confidence Interval: (4.818247525353707, 5.896038188932007)\n"
     ]
    }
   ],
   "source": [
    "import numpy as np\n",
    "import scipy.stats as stats\n",
    "\n",
    "def estimate_population_mean(sample_data, confidence_level=0.95):\n",
    "    sample_mean = np.mean(sample_data)\n",
    "    sample_std = np.std(sample_data, ddof=1)\n",
    "    sample_size = len(sample_data)\n",
    "    \n",
    "    # Calculate the margin of error\n",
    "    alpha = 1 - confidence_level\n",
    "    t_critical = stats.t.ppf(1 - alpha/2, df=sample_size-1)\n",
    "    margin_of_error = t_critical * (sample_std / np.sqrt(sample_size))\n",
    "    \n",
    "    # Calculate confidence interval\n",
    "    confidence_interval = (sample_mean - margin_of_error, sample_mean + margin_of_error)\n",
    "    \n",
    "    return sample_mean, confidence_interval\n",
    "\n",
    "# Example usage:\n",
    "sample_data = [4.5, 5.1, 6.2, 5.8, 4.9, 5.7, 5.3]\n",
    "mean, conf_interval = estimate_population_mean(sample_data)\n",
    "print(f\"Sample Mean: {mean}\")\n",
    "print(f\"95% Confidence Interval: {conf_interval}\")\n"
   ]
  },
  {
   "cell_type": "code",
   "execution_count": 5,
   "id": "19d0917b",
   "metadata": {},
   "outputs": [],
   "source": [
    "# Q3: What is Hypothesis testing? Why is it used? State the importance of Hypothesis testing.\n"
   ]
  },
  {
   "cell_type": "code",
   "execution_count": 6,
   "id": "fa2fd621",
   "metadata": {},
   "outputs": [],
   "source": [
    "# Hypothesis Testing:\n",
    "# Hypothesis testing is a statistical method used to make decisions or inferences about population parameters based on sample data.\n",
    "# It involves formulating a null hypothesis (H0) and an alternative hypothesis (HA), then using statistical tests to determine whether there is \n",
    "# enough evidence to reject the null hypothesis in favor of the alternative hypothesis.\n",
    "\n",
    "# Hypothesis testing is used to determine if there is statistical evidence to support a specific claim or hypothesis\n",
    "# about a population parameter. It is a crucial part of scientific research, quality control, and decision-making processes.\n",
    "\n",
    "# Importance of Hypothesis Testing:\n",
    "\n",
    "# Scientific Research: Helps in validating or refuting scientific theories.\n",
    "# Quality Control: Ensures products meet certain standards.\n",
    "# Decision Making: Aids in making informed business and policy decisions based on data.\n",
    "# Inference: Allows for generalizations from a sample to a population."
   ]
  },
  {
   "cell_type": "code",
   "execution_count": 7,
   "id": "4eea3cb8",
   "metadata": {},
   "outputs": [],
   "source": [
    "# Q4. Create a hypothesis that states whether the average weight of male college students is greater than\n",
    "# the average weight of female college students."
   ]
  },
  {
   "cell_type": "code",
   "execution_count": 9,
   "id": "ddd1d913",
   "metadata": {},
   "outputs": [],
   "source": [
    "# Ho :  The average weight of male college students is less than or equal\n",
    "#     to the average weight of female college students.( mu of male <= mu of female)\n",
    "# H1 : The  average weight of male college students\n",
    "#     is greater than the average weight of female college students.( mu of male > mu of female)    "
   ]
  },
  {
   "cell_type": "code",
   "execution_count": 11,
   "id": "ae168f46",
   "metadata": {},
   "outputs": [],
   "source": [
    "# Q5. Write a Python script to conduct a hypothesis test on the difference between two population means,\n",
    "# # given a sample from each population"
   ]
  },
  {
   "cell_type": "code",
   "execution_count": 12,
   "id": "8afb5201",
   "metadata": {},
   "outputs": [
    {
     "name": "stdout",
     "output_type": "stream",
     "text": [
      "T-statistic: 9.086853640887432\n",
      "P-value: 4.009654926846724e-08\n",
      "Reject Null Hypothesis: True\n"
     ]
    }
   ],
   "source": [
    "import numpy as np\n",
    "import scipy.stats as stats\n",
    "\n",
    "def two_sample_t_test(sample1, sample2, alpha=0.05):\n",
    "    # Calculate sample statistics\n",
    "    mean1, mean2 = np.mean(sample1), np.mean(sample2)\n",
    "    std1, std2 = np.std(sample1, ddof=1), np.std(sample2, ddof=1)\n",
    "    n1, n2 = len(sample1), len(sample2)\n",
    "    \n",
    "    # Calculate the t-statistic and p-value\n",
    "    t_stat, p_value = stats.ttest_ind(sample1, sample2, equal_var=False)\n",
    "    \n",
    "    # Determine whether to reject the null hypothesis\n",
    "    reject_null = p_value < alpha\n",
    "    \n",
    "    return t_stat, p_value, reject_null\n",
    "\n",
    "# Example usage:\n",
    "male_weights = [70, 72, 68, 75, 74, 71, 69, 72, 73, 70]\n",
    "female_weights = [60, 62, 65, 63, 61, 64, 60, 66, 62, 64]\n",
    "\n",
    "t_stat, p_value, reject_null = two_sample_t_test(male_weights, female_weights)\n",
    "\n",
    "print(f\"T-statistic: {t_stat}\")\n",
    "print(f\"P-value: {p_value}\")\n",
    "print(f\"Reject Null Hypothesis: {reject_null}\")\n"
   ]
  },
  {
   "cell_type": "code",
   "execution_count": 13,
   "id": "7d36ae30",
   "metadata": {},
   "outputs": [],
   "source": [
    "# Q6: What is a null and alternative hypothesis? Give some examples.\n",
    "# Q7: Write down the steps involved in hypothesis testing.\n",
    "# Q8. Define p-value and explain its significance in hypothesis testing.\n",
    "# Q9. Generate a Student's t-distribution plot using Python's matplotlib library, with the degrees of freedom\n",
    "# parameter set to 10.\n",
    "# Q10. Write a Python program to calculate the two-sample t-test for independent samples, given two\n",
    "# random samples of equal size and a null hypothesis that the population means are equal."
   ]
  },
  {
   "cell_type": "code",
   "execution_count": 14,
   "id": "5e60f799",
   "metadata": {},
   "outputs": [],
   "source": [
    "# Q6: What is a null and alternative hypothesis? Give some examples.\n"
   ]
  },
  {
   "cell_type": "code",
   "execution_count": 17,
   "id": "e45e61cd",
   "metadata": {},
   "outputs": [],
   "source": [
    "# Null Hypothesis (H0):\n",
    "# The null hypothesis is a statement that there is no effect or no difference.\n",
    "# It is a hypothesis that researchers try to disprove or reject. It is denoted by H0.\n",
    "\n",
    "# Alternative Hypothesis (H1):\n",
    "# The alternative hypothesis is a statement that indicates the presence of an effect or a difference.\n",
    "# It is what the researcher aims to prove. It is denoted by H1. \n",
    "\n",
    "# for example : \n",
    "    \n",
    "#     a) mean comparison : Ho : the average height of male and female students is the same.\n",
    "#                               (mu of male = mu of female)\n",
    "#                          H1 : the average height of male and female studnets is not same.\n",
    "#                               (mu of male not equal to mu of female)\n",
    "                            \n",
    "#    b)                    Ho : the proportion of smokers in two different cities is the same  \n",
    "#                                (pcity1 = pcity2)\n",
    "#                          H1 : the proportion of smokers in two different cities is different(pcity not equal to pcity2)\n",
    "                "
   ]
  },
  {
   "cell_type": "code",
   "execution_count": 18,
   "id": "0b10f710",
   "metadata": {},
   "outputs": [],
   "source": [
    "# Q7: Write down the steps involved in hypothesis testing.\n"
   ]
  },
  {
   "cell_type": "code",
   "execution_count": 19,
   "id": "de945bb8",
   "metadata": {},
   "outputs": [],
   "source": [
    "# Steps in Hypothesis Testing:\n",
    "\n",
    "# State the Hypotheses:\n",
    "\n",
    "# Formulate the null hypothesis (ho) and the alternative hypothesis (h1)\n",
    "\n",
    "# Choose the Significance Level (α):\n",
    "\n",
    "# Common choices for 𝛼 are 0.05, 0.01, and 0.10.\n",
    "# Select the Appropriate Test:\n",
    "\n",
    "# Choose a statistical test based on the type of data and \n",
    "# the sample size (e.g., t-test, chi-square test, ANOVA).\n",
    "\n",
    "# Calculate the Test Statistic:\n",
    "\n",
    "# Use the sample data to calculate the test statistic.\n",
    "# Determine the Critical Value or P-value:\n",
    "\n",
    "# Find the critical value from statistical tables or calculate the p-value.\n",
    "# Make a Decision:\n",
    "\n",
    "# Compare the test statistic to the critical value or compare the p-value to α.\n",
    "# If the test statistic exceeds the critical value or if the p-value is less than α, reject ho \n",
    "\n",
    "# Conclusion:\n",
    "\n",
    "# Draw a conclusion and interpret the results in the context of the research question."
   ]
  },
  {
   "cell_type": "code",
   "execution_count": 20,
   "id": "1c69ec6b",
   "metadata": {},
   "outputs": [],
   "source": [
    "# # Q8. Define p-value and explain its significance in hypothesis testing.\n",
    "\n",
    "\n",
    "\n",
    "# The p-value is the probability of obtaining a test statistic at least as extreme as the one observed, assuming that the null hypothesis (\n",
    "# (ho) is true. It quantifies the evidence against the null hypothesis.\n",
    "    \n",
    "#     low p- values : indicates strong evidence against the null hypothessis , so we reject ho.\n",
    "#     high p-values : indicates weak evidence agaisnt the null hypo. , so we fail toe reject ho.\n",
    "    \n",
    "#     The p-value helps researchers determine the significance of their results. \n",
    "#     A smaller p-value suggests that the observed data is unlikely\n",
    "#     under the null hypothesis, leading to its rejection\n",
    "    "
   ]
  },
  {
   "cell_type": "code",
   "execution_count": 23,
   "id": "4b2054b3",
   "metadata": {},
   "outputs": [],
   "source": [
    "# Q9. Generate a Student's t-distribution plot using Python's matplotlib library, with the degrees of freedom\n",
    "# parameter set to 10."
   ]
  },
  {
   "cell_type": "code",
   "execution_count": 21,
   "id": "ee813365",
   "metadata": {},
   "outputs": [
    {
     "data": {
      "image/png": "[encoded data removed]",
      "text/plain": [
       "<Figure size 432x288 with 1 Axes>"
      ]
     },
     "metadata": {
      "needs_background": "light"
     },
     "output_type": "display_data"
    }
   ],
   "source": [
    "\n",
    "\n",
    "import numpy as np\n",
    "import matplotlib.pyplot as plt\n",
    "import scipy.stats as stats\n",
    "\n",
    "# Degrees of freedom\n",
    "df = 10\n",
    "\n",
    "# Generate t-distribution values\n",
    "x = np.linspace(-4, 4, 1000)\n",
    "y = stats.t.pdf(x, df)\n",
    "\n",
    "# Plot the t-distribution\n",
    "plt.plot(x, y, label=f't-distribution (df={df})')\n",
    "plt.title('Student\\'s t-distribution (df=10)')\n",
    "plt.xlabel('t')\n",
    "plt.ylabel('Probability Density')\n",
    "plt.legend()\n",
    "plt.grid(True)\n",
    "plt.show()\n"
   ]
  },
  {
   "cell_type": "code",
   "execution_count": null,
   "id": "6cd253c4",
   "metadata": {},
   "outputs": [],
   "source": []
  },
  {
   "cell_type": "code",
   "execution_count": 24,
   "id": "72ae15fc",
   "metadata": {},
   "outputs": [],
   "source": [
    "# Q10. Write a Python program to calculate the two-sample t-test for independent samples, given two\n",
    "# # random samples of equal size and a null hypothesis that the population means are equal."
   ]
  },
  {
   "cell_type": "code",
   "execution_count": 25,
   "id": "bccb8fca",
   "metadata": {},
   "outputs": [
    {
     "name": "stdout",
     "output_type": "stream",
     "text": [
      "T-statistic: 0.8897019207505203\n",
      "P-value: 0.3774242754013908\n",
      "Reject Null Hypothesis: False\n"
     ]
    }
   ],
   "source": [
    "import numpy as np\n",
    "import scipy.stats as stats\n",
    "\n",
    "def two_sample_t_test(sample1, sample2, alpha=0.05):\n",
    "    # Calculate sample statistics\n",
    "    mean1, mean2 = np.mean(sample1), np.mean(sample2)\n",
    "    std1, std2 = np.std(sample1, ddof=1), np.std(sample2, ddof=1)\n",
    "    n1, n2 = len(sample1), len(sample2)\n",
    "    \n",
    "    # Calculate the t-statistic and p-value\n",
    "    t_stat, p_value = stats.ttest_ind(sample1, sample2, equal_var=False)\n",
    "    \n",
    "    # Determine whether to reject the null hypothesis\n",
    "    reject_null = p_value < alpha\n",
    "    \n",
    "    return t_stat, p_value, reject_null\n",
    "\n",
    "# Example usage:\n",
    "np.random.seed(0)  # For reproducibility\n",
    "sample1 = np.random.normal(loc=5.0, scale=1.0, size=30)\n",
    "sample2 = np.random.normal(loc=5.5, scale=1.0, size=30)\n",
    "\n",
    "t_stat, p_value, reject_null = two_sample_t_test(sample1, sample2)\n",
    "\n",
    "print(f\"T-statistic: {t_stat}\")\n",
    "print(f\"P-value: {p_value}\")\n",
    "print(f\"Reject Null Hypothesis: {reject_null}\")\n"
   ]
  },
  {
   "cell_type": "code",
   "execution_count": null,
   "id": "cc235fc2",
   "metadata": {},
   "outputs": [],
   "source": []
  },
  {
   "cell_type": "code",
   "execution_count": 26,
   "id": "c74473b2",
   "metadata": {},
   "outputs": [],
   "source": [
    "# Q11: What is Student’s t distribution? When to use the t-Distribution.\n",
    "# Q12: What is t-statistic? State the formula for t-statistic.\n",
    "# Q13. A coffee shop owner wants to estimate the average daily revenue for their shop. They take a random\n",
    "# sample of 50 days and find the sample mean revenue to be $500 with a standard deviation of $50.\n",
    "# Estimate the population mean revenue with a 95% confidence interval.\n",
    "# Q14. A researcher hypothesizes that a new drug will decrease blood pressure by 10 mmHg. They conduct a\n",
    "# clinical trial with 100 patients and find that the sample mean decrease in blood pressure is 8 mmHg with a\n",
    "# standard deviation of 3 mmHg. Test the hypothesis with a significance level of 0.05.\n",
    "# Q15. An electronics company produces a certain type of product with a mean weight of 5 pounds and a\n",
    "# standard deviation of 0.5 pounds. A random sample of 25 products is taken, and the sample mean weight\n",
    "# is found to be 4.8 pounds. Test the hypothesis that the true mean weight of the products is less than 5\n",
    "# pounds with a significance level of 0.01.\n",
    "# Q16. Two groups of students are given different study materials to prepare for a test. The first group (n1 =\n",
    "# 30) has a mean score of 80 with a standard deviation of 10, and the second group (n2 = 40) has a mean\n",
    "# score of 75 with a standard deviation of 8. Test the hypothesis that the population means for the two\n",
    "# groups are equal with a significance level of 0.01.\n",
    "# Q17. A marketing company wants to estimate the average number of ads watched by viewers during a TV\n",
    "# program. They take a random sample of 50 viewers and find that the sample mean is 4 with a standard\n",
    "# # deviation of 1.5. Estimate the population mean with a 99% confidence interval."
   ]
  },
  {
   "cell_type": "code",
   "execution_count": 28,
   "id": "a4125b07",
   "metadata": {},
   "outputs": [],
   "source": [
    "# q.11\n",
    "\n",
    "# Student’s t-distribution:\n",
    "# Student’s t-distribution, often simply called the t-distribution,\n",
    "# is a probability distribution that arises when estimating the mean of a normally distributed population\n",
    "# in situations where the sample size is small and the population standard deviation is unknown. \n",
    "# It is similar in shape to the standard normal distribution but has heavier tails, \n",
    "# which means it is more prone to producing values that fall far from its mean.\n",
    "\n",
    "# we use this distributioon : when n<30(sample size is small)\n",
    "#      2) when the population standared deviation is unknown and has to be estimated from the sample standard deviation.\n",
    "#         when the populatioen is normally distributed or the sample size is large enoughh for the CLT to apply.\n",
    "        "
   ]
  },
  {
   "cell_type": "code",
   "execution_count": 30,
   "id": "37246803",
   "metadata": {},
   "outputs": [],
   "source": [
    "# q12:\n",
    "    \n",
    "    \n",
    "#     T-statistic:\n",
    "# The t-statistic is a type of test statistic that follows a Student’s t-distribution under the null hypothesis.\n",
    "# It is used in hypothesis testing to determine if there is a significant difference between the means of two groups or \n",
    "# if a sample mean significantly differs from a population mean\n",
    "\n",
    "# t = (x_bar - mu)/(s/root(n)) : where x_bar: sample mean, mu: population mean under ho , s: sample standard deviation , n is sample size"
   ]
  },
  {
   "cell_type": "code",
   "execution_count": 32,
   "id": "cb2590fd",
   "metadata": {},
   "outputs": [],
   "source": [
    "# q.13: \n",
    "    \n",
    "#     x_bar= 500\n",
    "#     standard -deviation = 50\n",
    "#     n = 50\n",
    "#     conf.inter= 95%\n",
    "#     degree of freedome = n-1 : 49.\n",
    "#         tabulated t value(from table ) : 2.009\n",
    "#             margin of error: (tabulated t ) * (s/root(n)) : 2.009*(50/(50)^.5) : 14.1\n",
    "                        \n",
    "#                         confidence interval: x_bar+- margin of error\n",
    "#                              500 +- 14.2 = (485.8,514.2)\n",
    "                                \n",
    "#                                 so at 95% confidence interval for the population mean reevenceu is 485.8 tto  514.2."
   ]
  },
  {
   "cell_type": "code",
   "execution_count": 33,
   "id": "c690fa04",
   "metadata": {},
   "outputs": [],
   "source": [
    "# q.14 :\n",
    "    \n",
    "#     mu =10  ( null hypotheiss)\n",
    "#     mu not= 10 ( alternative hypothesis)\n",
    "    \n",
    "#     x_bar = 8  (mean sample)\n",
    "#     s = 3       (sample standard deviatioon)\n",
    "#     n = 100     (sample size)\n",
    "#     alpha = 0.05 (significance level)\n",
    "    \n",
    "    \n",
    "#     t-statistis : x_bar-mu)/(s/root(n)) = (8-10)/(3/root(100)) = -6.67\n",
    "#         d.o.f(degree of freedom ) = n-1 = 99.\n",
    "        \n",
    "#         t-tabulated : +- 1.984\n",
    "#             since |t| = 6.67 , need to reject the null hypothesis , \n",
    "            \n",
    "            \n",
    "            \n",
    "#             The data provides sufficient evidence to conclude that the drug's \n",
    "#             effect on decreasing blood pressure is significantly different from 10 mmHg"
   ]
  },
  {
   "cell_type": "code",
   "execution_count": 34,
   "id": "b5c5f073",
   "metadata": {},
   "outputs": [],
   "source": [
    "# # q.15 : \n",
    "\n",
    "\n",
    "\n",
    "# Ho : mu>=5\n",
    "# Ha  :mu<5 \n",
    "    \n",
    "# x_bar : 4.8\n",
    "    \n",
    "#     s = 0.5\n",
    "#     n = 25\n",
    "#     alpha=0.01\n",
    "    \n",
    "    \n",
    "#     t = 4.8-5/(0.5/root(25)) = -0.2/0.1 = -2\n",
    "    \n",
    "#     dof : 24 ,,, t-critical or t-tabulated(from table ) = -2.492\n",
    "        \n",
    "#         since t = -2 , is greater than -2.492, we fail to reject the ho(null hypotheis\n",
    "                                                                       \n",
    "                                                                       \n",
    "                                                                       \n",
    "#         There is insufficient evidence to\n",
    "#     conclude that the true mean weight is less than 5 pounds.                                                               \n",
    "                                                                       "
   ]
  },
  {
   "cell_type": "code",
   "execution_count": null,
   "id": "dc0d3ea2",
   "metadata": {},
   "outputs": [],
   "source": [
    "# # q.17:\n",
    "\n",
    "\n",
    "# x_bar = 4\n",
    "# s = 1.5\n",
    "# n =50\n",
    "# confidence level =99%\n",
    "\n",
    "# critical value at 99% confidence level with 49 d.o.f . using t-table : t*=2.682\n",
    "    \n",
    "#     finding margin of errors: t* * ( standard error)  = 2.682*1.5/root(50) = 0.568\n",
    "        \n",
    "        \n",
    "#         x_bar +- margin of error  = 4+- 0.568 = (3.432,4.568)\n",
    "        \n",
    "        \n",
    "#         So, the 99% confidence interval for the population mean \n",
    "#         number of ads watched is 3.432 to 4.568."
   ]
  }
 ],
 "metadata": {
  "kernelspec": {
   "display_name": "Python 3 (ipykernel)",
   "language": "python",
   "name": "python3"
  },
  "language_info": {
   "codemirror_mode": {
    "name": "ipython",
    "version": 3
   },
   "file_extension": ".py",
   "mimetype": "text/x-python",
   "name": "python",
   "nbconvert_exporter": "python",
   "pygments_lexer": "ipython3",
   "version": "3.9.12"
  }
 },
 "nbformat": 4,
 "nbformat_minor": 5
}

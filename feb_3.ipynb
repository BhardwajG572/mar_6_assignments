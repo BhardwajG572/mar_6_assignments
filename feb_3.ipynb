{
 "cells": [
  {
   "cell_type": "code",
   "execution_count": 1,
   "id": "fd8a3c7c",
   "metadata": {},
   "outputs": [],
   "source": [
    "# Q1. Which keyword is used to create a function? Create a function to return a list of odd numbers in the\n",
    "# range of 1 to 25.\n",
    "# Q2. Why *args and **kwargs is used in some functions? Create a function each for *args and **kwargs\n",
    "# to demonstrate their use.\n",
    "# Q3. What is an iterator in python? Name the method used to initialise the iterator object and the method\n",
    "# used for iteration. Use these methods to print the first five elements of the given list [2, 4, 6, 8, 10, 12, 14,\n",
    "# 16, 18, 20].\n",
    "# Q4. What is a generator function in python? Why yield keyword is used? Give an example of a generator\n",
    "# function.\n",
    "# Q5. Create a generator function for prime numbers less than 1000. Use the next() method to print the\n",
    "# first 20 prime numbers.\n",
    "# Q6. Write a python program to print the first 10 Fibonacci numbers using a while loop.\n",
    "# Q7. Write a List Comprehension to iterate through the given string: ‘pwskills’.\n",
    "# Expected output: ['p', 'w', 's', 'k', 'i', 'l', 'l', 's']\n",
    "# Q8. Write a python program to check whether a given number is Palindrome or not using a while loop.\n",
    "# Q9. Write a code to print odd numbers from 1 to 100 using list comprehension.\n",
    "# Note: Use a list comprehension to create a list from 1 to 100 and use another List comprehension to filter\n",
    "# out odd numbers."
   ]
  },
  {
   "cell_type": "code",
   "execution_count": 3,
   "id": "78100c15",
   "metadata": {},
   "outputs": [],
   "source": [
    "df=map(lambda x:x%2==0,range(25))"
   ]
  },
  {
   "cell_type": "code",
   "execution_count": 9,
   "id": "30f32921",
   "metadata": {},
   "outputs": [],
   "source": [
    "# Q1 : \"def\" keyword is used to create a function..    \n",
    "\n",
    "list_num = [i for i in range(1,26)]"
   ]
  },
  {
   "cell_type": "code",
   "execution_count": 13,
   "id": "67176e83",
   "metadata": {},
   "outputs": [],
   "source": [
    "\n",
    "def check_no(listt):\n",
    "    list=[]\n",
    "    for i in listt:\n",
    "        if(i%2!=0):\n",
    "            list.append(i)\n",
    "            \n",
    "    return list        \n",
    "    "
   ]
  },
  {
   "cell_type": "code",
   "execution_count": 14,
   "id": "7e1087eb",
   "metadata": {},
   "outputs": [
    {
     "data": {
      "text/plain": [
       "[1, 3, 5, 7, 9, 11, 13, 15, 17, 19, 21, 23, 25]"
      ]
     },
     "execution_count": 14,
     "metadata": {},
     "output_type": "execute_result"
    }
   ],
   "source": [
    "check_no(list_num)"
   ]
  },
  {
   "cell_type": "code",
   "execution_count": 15,
   "id": "2625446a",
   "metadata": {},
   "outputs": [],
   "source": [
    "# Q2. Why *args and **kwargs is used in some functions? Create a function each for *args and **kwargs\n",
    "# to demonstrate their use."
   ]
  },
  {
   "cell_type": "code",
   "execution_count": 16,
   "id": "d0978789",
   "metadata": {},
   "outputs": [],
   "source": [
    "# In Python, *args and **kwargs are used in functions to pass a variable number of arguments.\n",
    "\n",
    "# *args allows us to pass a variable number of non-keyword (positional) arguments to a function.\n",
    "# **kwargs allows us to pass a variable number of keyword arguments (key-value pairs) to a function."
   ]
  },
  {
   "cell_type": "code",
   "execution_count": 17,
   "id": "6066526c",
   "metadata": {},
   "outputs": [
    {
     "name": "stdout",
     "output_type": "stream",
     "text": [
      "10\n"
     ]
    }
   ],
   "source": [
    "def sum_all(*args):\n",
    "    total = 0\n",
    "    for num in args:\n",
    "        total += num\n",
    "    return total\n",
    "\n",
    "# Example of using *args\n",
    "result = sum_all(1, 2, 3, 4)\n",
    "print(result)  # Output: 10\n"
   ]
  },
  {
   "cell_type": "code",
   "execution_count": 18,
   "id": "97cbe3d3",
   "metadata": {},
   "outputs": [],
   "source": [
    "# Use of **kwargs\n",
    "# When you use **kwargs,\n",
    "# it collects all the extra keyword arguments passed to the function and stores them in a dictionary"
   ]
  },
  {
   "cell_type": "code",
   "execution_count": 20,
   "id": "2459a60b",
   "metadata": {},
   "outputs": [
    {
     "name": "stdout",
     "output_type": "stream",
     "text": [
      "name: Alice\n",
      "age: 30\n",
      "city: New York\n",
      "country: USA\n",
      "college: MIT\n"
     ]
    }
   ],
   "source": [
    "def print_details(**kwargs):\n",
    "    for key, value in kwargs.items():\n",
    "        print(f\"{key}: {value}\")\n",
    "\n",
    "# Example of using **kwargs\n",
    "print_details(name=\"Alice\", age=30, city=\"New York\",country=\"USA\",college=\"MIT\")\n"
   ]
  },
  {
   "cell_type": "code",
   "execution_count": 21,
   "id": "e77a1d71",
   "metadata": {},
   "outputs": [],
   "source": [
    "# Q3. What is an iterator in python? Name the method used to initialise the iterator object and the method\n",
    "# used for iteration. Use these methods to print the first five elements of the given list [2, 4, 6, 8, 10, 12, 14,\n",
    "# 16, 18, 20]"
   ]
  },
  {
   "cell_type": "code",
   "execution_count": 43,
   "id": "8316b7ff",
   "metadata": {},
   "outputs": [],
   "source": [
    "# an iterator is an object that allows us to traverse \n",
    "# through all the elements of a collection (like lists or tuples) one at a time."
   ]
  },
  {
   "cell_type": "code",
   "execution_count": 44,
   "id": "3fb897db",
   "metadata": {},
   "outputs": [
    {
     "data": {
      "text/plain": [
       "<list_iterator at 0x22a8939df70>"
      ]
     },
     "execution_count": 44,
     "metadata": {},
     "output_type": "execute_result"
    }
   ],
   "source": [
    "list = [2, 4, 6, 8, 10, 12, 14, 16, 18, 20]\n",
    "iter(list)"
   ]
  },
  {
   "cell_type": "code",
   "execution_count": 45,
   "id": "dfb0b61e",
   "metadata": {},
   "outputs": [],
   "source": [
    "def first_five(list):\n",
    "    iterator =  iter(list)\n",
    "    size=1;\n",
    "    while(size<6):\n",
    "        print(next(iterator))\n",
    "        size=size+1"
   ]
  },
  {
   "cell_type": "code",
   "execution_count": 46,
   "id": "cc5c3cf7",
   "metadata": {},
   "outputs": [
    {
     "name": "stdout",
     "output_type": "stream",
     "text": [
      "2\n",
      "4\n",
      "6\n",
      "8\n",
      "10\n"
     ]
    }
   ],
   "source": [
    "first_five(list)"
   ]
  },
  {
   "cell_type": "code",
   "execution_count": 47,
   "id": "85f0de58",
   "metadata": {},
   "outputs": [],
   "source": [
    "# Q4. What is a generator function in python? Why yield keyword is used? Give an example of a generator\n",
    "# # function."
   ]
  },
  {
   "cell_type": "code",
   "execution_count": 48,
   "id": "6969b478",
   "metadata": {},
   "outputs": [],
   "source": [
    "# A generator function in Python is a special type of function that returns \n",
    "# an iterator and is used to generate values on the fly. Instead of using return,\n",
    "# a generator function uses the yield keyword to yield a value, which allows it \n",
    "# to produce a series of values lazily,\n",
    "# one at a time, and resume execution exactly where it left off.\n",
    "\n",
    "# The yield keyword turns a function into a generator.\n",
    "# Each time yield is called, the function’s state is saved, and when next() is called on the generator,\n",
    "# it resumes from where it left off.\n",
    "# Generators are more memory-efficient than functions that return lists because \n",
    "# they generate values only when needed (lazy evaluation)."
   ]
  },
  {
   "cell_type": "code",
   "execution_count": 49,
   "id": "13f09d1d",
   "metadata": {},
   "outputs": [],
   "source": [
    "# Q5. Create a generator function for prime numbers less than 1000. Use the next() method to print the\n",
    "# first 20 prime numbers."
   ]
  },
  {
   "cell_type": "code",
   "execution_count": 50,
   "id": "606ef15c",
   "metadata": {},
   "outputs": [
    {
     "name": "stdout",
     "output_type": "stream",
     "text": [
      "2\n",
      "3\n",
      "5\n",
      "7\n",
      "11\n",
      "13\n",
      "17\n",
      "19\n",
      "23\n",
      "29\n",
      "31\n",
      "37\n",
      "41\n",
      "43\n",
      "47\n",
      "53\n",
      "59\n",
      "61\n",
      "67\n",
      "71\n"
     ]
    }
   ],
   "source": [
    "def prime_numbers():\n",
    "    for num in range(2, 1000):  # Prime numbers start from 2\n",
    "        is_prime = True\n",
    "        for i in range(2, int(num ** 0.5) + 1):  # Check divisibility up to square root of num\n",
    "            if num % i == 0:\n",
    "                is_prime = False\n",
    "                break\n",
    "        if is_prime:\n",
    "            yield num  # Yield prime number\n",
    "\n",
    "# Create the generator\n",
    "prime_gen = prime_numbers()\n",
    "\n",
    "# Print the first 20 prime numbers using next()\n",
    "for _ in range(20):\n",
    "    print(next(prime_gen))\n"
   ]
  },
  {
   "cell_type": "code",
   "execution_count": 54,
   "id": "3ebf3612",
   "metadata": {},
   "outputs": [],
   "source": [
    "# Q6. Write a python program to print the first 10 Fibonacci numbers using a while loop.\n"
   ]
  },
  {
   "cell_type": "code",
   "execution_count": 55,
   "id": "95c67399",
   "metadata": {},
   "outputs": [],
   "source": [
    "def fibo(n):\n",
    "    a=0\n",
    "    b=1\n",
    "    count=0\n",
    "    while(count<=n):\n",
    "        a,b=b,a+b\n",
    "        count=count+1\n",
    "        \n",
    "    print(b)    \n",
    "        "
   ]
  },
  {
   "cell_type": "code",
   "execution_count": 57,
   "id": "4315ced3",
   "metadata": {},
   "outputs": [
    {
     "name": "stdout",
     "output_type": "stream",
     "text": [
      "144\n"
     ]
    }
   ],
   "source": [
    "fibo(10)"
   ]
  },
  {
   "cell_type": "code",
   "execution_count": 59,
   "id": "228e6349",
   "metadata": {},
   "outputs": [],
   "source": [
    "# Q7. Write a List Comprehension to iterate through the given string: ‘pwskills’.\n",
    "result = [i for i in 'pwskills']"
   ]
  },
  {
   "cell_type": "code",
   "execution_count": 60,
   "id": "26bfada7",
   "metadata": {},
   "outputs": [
    {
     "data": {
      "text/plain": [
       "['p', 'w', 's', 'k', 'i', 'l', 'l', 's']"
      ]
     },
     "execution_count": 60,
     "metadata": {},
     "output_type": "execute_result"
    }
   ],
   "source": [
    "result"
   ]
  },
  {
   "cell_type": "code",
   "execution_count": 61,
   "id": "b1998a1c",
   "metadata": {},
   "outputs": [],
   "source": [
    "# Q8. Write a python program to check whether a given number is Palindrome or not using a while loop.\n"
   ]
  },
  {
   "cell_type": "code",
   "execution_count": 62,
   "id": "3f473120",
   "metadata": {},
   "outputs": [],
   "source": [
    "num = 1984\n",
    "num1 = 1001\n",
    "\n",
    "\n"
   ]
  },
  {
   "cell_type": "code",
   "execution_count": 67,
   "id": "5ffccece",
   "metadata": {},
   "outputs": [
    {
     "name": "stdout",
     "output_type": "stream",
     "text": [
      "Enter Number to check Palindrome >>1001\n"
     ]
    },
    {
     "ename": "IndexError",
     "evalue": "string index out of range",
     "output_type": "error",
     "traceback": [
      "\u001b[1;31m---------------------------------------------------------------------------\u001b[0m",
      "\u001b[1;31mIndexError\u001b[0m                                Traceback (most recent call last)",
      "Input \u001b[1;32mIn [67]\u001b[0m, in \u001b[0;36m<cell line: 4>\u001b[1;34m()\u001b[0m\n\u001b[0;32m      1\u001b[0m take_input \u001b[38;5;241m=\u001b[39m \u001b[38;5;28minput\u001b[39m(\u001b[38;5;124m\"\u001b[39m\u001b[38;5;124mEnter Number to check Palindrome >>\u001b[39m\u001b[38;5;124m\"\u001b[39m)\n\u001b[0;32m      2\u001b[0m checked_number \u001b[38;5;241m=\u001b[39m (take_input)\n\u001b[1;32m----> 4\u001b[0m \u001b[43mcheck_palindrome\u001b[49m\u001b[43m(\u001b[49m\u001b[43mchecked_number\u001b[49m\u001b[43m)\u001b[49m\n",
      "Input \u001b[1;32mIn [64]\u001b[0m, in \u001b[0;36mcheck_palindrome\u001b[1;34m(n)\u001b[0m\n\u001b[0;32m      3\u001b[0m i  \u001b[38;5;241m=\u001b[39m\u001b[38;5;241m0\u001b[39m \n\u001b[0;32m      4\u001b[0m \u001b[38;5;28;01mwhile\u001b[39;00m(i\u001b[38;5;241m<\u001b[39mcount\u001b[38;5;241m/\u001b[39m\u001b[38;5;241m2\u001b[39m):\n\u001b[1;32m----> 5\u001b[0m     \u001b[38;5;28;01mif\u001b[39;00m(n[i]\u001b[38;5;241m!=\u001b[39m\u001b[43mn\u001b[49m\u001b[43m[\u001b[49m\u001b[43mcount\u001b[49m\u001b[38;5;241;43m-\u001b[39;49m\u001b[43mi\u001b[49m\u001b[43m]\u001b[49m):\n\u001b[0;32m      6\u001b[0m         i\u001b[38;5;241m=\u001b[39mi\u001b[38;5;241m+\u001b[39m\u001b[38;5;241m1\u001b[39m\n\u001b[0;32m      7\u001b[0m         \u001b[38;5;28;01mreturn\u001b[39;00m \u001b[38;5;28;01mFalse\u001b[39;00m\n",
      "\u001b[1;31mIndexError\u001b[0m: string index out of range"
     ]
    }
   ],
   "source": [
    "take_input = input(\"Enter Number to check Palindrome >>\")\n",
    "checked_number = (take_input)\n",
    "\n",
    "check_palindrome(checked_number)\n"
   ]
  },
  {
   "cell_type": "code",
   "execution_count": 68,
   "id": "2ea2a1f8",
   "metadata": {},
   "outputs": [
    {
     "name": "stdout",
     "output_type": "stream",
     "text": [
      "Enter a number: 1001\n",
      "1001 is a palindrome.\n"
     ]
    }
   ],
   "source": [
    "def check_palindrome(num):\n",
    "    original_num = num  # Store the original number\n",
    "    reverse_num = 0\n",
    "\n",
    "    while num > 0:\n",
    "        digit = num % 10  # Extract the last digit\n",
    "        reverse_num = reverse_num * 10 + digit  # Build the reversed number\n",
    "        num = num // 10  # Remove the last digit from the original number\n",
    "\n",
    "    # Check if the original number and reversed number are the same\n",
    "    if original_num == reverse_num:\n",
    "        return True\n",
    "    else:\n",
    "        return False\n",
    "\n",
    "# Input number from the user\n",
    "number = int(input(\"Enter a number: \"))\n",
    "\n",
    "# Check if the number is a palindrome\n",
    "if check_palindrome(number):\n",
    "    print(f\"{number} is a palindrome.\")\n",
    "else:\n",
    "    print(f\"{number} is not a palindrome.\")\n",
    "\n",
    "        \n",
    "        \n",
    "    "
   ]
  },
  {
   "cell_type": "code",
   "execution_count": 69,
   "id": "957d5267",
   "metadata": {},
   "outputs": [],
   "source": [
    "# Q9. Write a code to print odd numbers from 1 to 100 using list comprehension.\n"
   ]
  },
  {
   "cell_type": "code",
   "execution_count": 75,
   "id": "54c6071c",
   "metadata": {},
   "outputs": [
    {
     "data": {
      "text/plain": [
       "[1,\n",
       " 3,\n",
       " 5,\n",
       " 7,\n",
       " 9,\n",
       " 11,\n",
       " 13,\n",
       " 15,\n",
       " 17,\n",
       " 19,\n",
       " 21,\n",
       " 23,\n",
       " 25,\n",
       " 27,\n",
       " 29,\n",
       " 31,\n",
       " 33,\n",
       " 35,\n",
       " 37,\n",
       " 39,\n",
       " 41,\n",
       " 43,\n",
       " 45,\n",
       " 47,\n",
       " 49,\n",
       " 51,\n",
       " 53,\n",
       " 55,\n",
       " 57,\n",
       " 59,\n",
       " 61,\n",
       " 63,\n",
       " 65,\n",
       " 67,\n",
       " 69,\n",
       " 71,\n",
       " 73,\n",
       " 75,\n",
       " 77,\n",
       " 79,\n",
       " 81,\n",
       " 83,\n",
       " 85,\n",
       " 87,\n",
       " 89,\n",
       " 91,\n",
       " 93,\n",
       " 95,\n",
       " 97,\n",
       " 99]"
      ]
     },
     "execution_count": 75,
     "metadata": {},
     "output_type": "execute_result"
    }
   ],
   "source": [
    "[i for i in range(100) if i%2!=0]"
   ]
  },
  {
   "cell_type": "code",
   "execution_count": null,
   "id": "ff59874f",
   "metadata": {},
   "outputs": [],
   "source": []
  }
 ],
 "metadata": {
  "kernelspec": {
   "display_name": "Python 3 (ipykernel)",
   "language": "python",
   "name": "python3"
  },
  "language_info": {
   "codemirror_mode": {
    "name": "ipython",
    "version": 3
   },
   "file_extension": ".py",
   "mimetype": "text/x-python",
   "name": "python",
   "nbconvert_exporter": "python",
   "pygments_lexer": "ipython3",
   "version": "3.9.12"
  }
 },
 "nbformat": 4,
 "nbformat_minor": 5
}

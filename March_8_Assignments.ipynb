{
 "cells": [
  {
   "cell_type": "code",
   "execution_count": 1,
   "id": "5218abb7",
   "metadata": {},
   "outputs": [],
   "source": [
    "# Q1. What is the Probability density function?\n",
    "# Q2. What are the types of Probability distribution?\n",
    "# Q3. Write a Python function to calculate the probability density function of a normal distribution with\n",
    "# given mean and standard deviation at a given point.\n",
    "# Q4. What are the properties of Binomial distribution? Give two examples of events where binomial\n",
    "# distribution can be applied.\n",
    "# Q5. Generate a random sample of size 1000 from a binomial distribution with probability of success 0.4\n",
    "# and plot a histogram of the results using matplotlib.\n",
    "# Q6. Write a Python function to calculate the cumulative distribution function of a Poisson distribution\n",
    "# with given mean at a given point.\n",
    "# Q7. How Binomial distribution different from Poisson distribution?\n",
    "# Q8. Generate a random sample of size 1000 from a Poisson distribution with mean 5 and calculate the\n",
    "# sample mean and variance.\n",
    "# Q9. How mean and variance are related in Binomial distribution and Poisson distribution?\n",
    "# Q10. In normal distribution with respect to mean position, where does the least frequent data appear?"
   ]
  },
  {
   "cell_type": "code",
   "execution_count": 2,
   "id": "1e9210b7",
   "metadata": {},
   "outputs": [],
   "source": [
    "# Q1. What is the Probability density function?\n"
   ]
  },
  {
   "cell_type": "code",
   "execution_count": 3,
   "id": "f98ca439",
   "metadata": {},
   "outputs": [],
   "source": [
    "# The Probability Density Function (PDF) describes the likelihood of a continuous random variable taking a specific value.\n",
    "# It represents the relative likelihood of different outcomes\n",
    "\n",
    "# -inf to +inf : domain of x\n",
    "    \n",
    "# for a continuous random variable x , the pdf f(x) satisfies the following properties:\n",
    "    "
   ]
  },
  {
   "cell_type": "code",
   "execution_count": 6,
   "id": "018eb885",
   "metadata": {},
   "outputs": [],
   "source": [
    "# Q2. What are the types of Probability distribution?\n"
   ]
  },
  {
   "cell_type": "code",
   "execution_count": 7,
   "id": "681b43da",
   "metadata": {},
   "outputs": [],
   "source": [
    "# Types of Probability Distributions:\n",
    "# Common types include:\n",
    "# Normal (Gaussian) distribution\n",
    "# Binomial distribution\n",
    "# Poisson distribution\n",
    "# Exponential distribution\n",
    "# Uniform distribution\n",
    "# Chi-squared distribution\n",
    "# Student’s t-distribution"
   ]
  },
  {
   "cell_type": "code",
   "execution_count": 8,
   "id": "8d1321b7",
   "metadata": {},
   "outputs": [],
   "source": [
    "## Q3. Write a Python function to calculate the probability density function of a normal distribution with\n"
   ]
  },
  {
   "cell_type": "code",
   "execution_count": 9,
   "id": "0c2ae36a",
   "metadata": {},
   "outputs": [],
   "source": [
    "import numpy as np\n",
    "def normal_pdf(x, mu, sigma):\n",
    "    return 1 / (np.sqrt(2 * np.pi * sigma**2)) * np.exp(-(x - mu)**2 / (2 * sigma**2))\n"
   ]
  },
  {
   "cell_type": "code",
   "execution_count": 10,
   "id": "9803f509",
   "metadata": {},
   "outputs": [],
   "source": [
    "# Q4. What are the properties of Binomial distribution? Give two examples of events where binomial\n",
    "# # distribution can be applied"
   ]
  },
  {
   "cell_type": "code",
   "execution_count": 14,
   "id": "8f885cd1",
   "metadata": {},
   "outputs": [],
   "source": [
    "# The binomial distribution models the number of successes in a fixed number of independent\n",
    "# Bernoulli trials (where each trial has two possible outcomes: success or failure).\n",
    "\n",
    "# key properties : \n",
    "    \n",
    "#     >Discrete : The random variable represents a count (eg.no.of successs.)\n",
    "#     > parameters(n) : no.of trials and p(probability of success in each trial)\n",
    "        \n",
    "#     > Probability mass function : (n c k)*p^k(1-p)^(n-k)\n",
    "#     > mean(expected value) : mu = np\n",
    "#     > variance( sigma^2) = np(1-p)\n",
    "\n",
    "\n",
    "\n",
    "# Examples of Events Modeled by Binomial Distribution:\n",
    "# Coin Flips: Modeling the number of heads (successes) in a series of coin tosses.\n",
    "# Quality Control: Determining the number of defective items in a batch produced by a manufacturing process."
   ]
  },
  {
   "cell_type": "code",
   "execution_count": 15,
   "id": "a2437504",
   "metadata": {},
   "outputs": [],
   "source": [
    "# Q5. Generate a random sample of size 1000 from a binomial distribution with probability of success 0.4\n",
    "# # and plot a histogram of the results using matplotlib"
   ]
  },
  {
   "cell_type": "code",
   "execution_count": 16,
   "id": "0aef1230",
   "metadata": {},
   "outputs": [
    {
     "data": {
      "image/png": "[encoded data removed]",
      "text/plain": [
       "<Figure size 432x288 with 1 Axes>"
      ]
     },
     "metadata": {
      "needs_background": "light"
     },
     "output_type": "display_data"
    }
   ],
   "source": [
    "import numpy as np\n",
    "import matplotlib.pyplot as plt\n",
    "\n",
    "n = 1000\n",
    "p = 0.4\n",
    "binomial_sample = np.random.binomial(n, p, size=1000)\n",
    "plt.hist(binomial_sample, bins=20, edgecolor='black')\n",
    "plt.xlabel('Number of Successes')\n",
    "plt.ylabel('Frequency')\n",
    "plt.title('Binomial Distribution')\n",
    "plt.show()\n"
   ]
  },
  {
   "cell_type": "code",
   "execution_count": 18,
   "id": "a52e3ebe",
   "metadata": {},
   "outputs": [],
   "source": [
    "# Q6. Write a Python function to calculate the cumulative distribution function of a Poisson distribution\n",
    "# # with given mean at a given point"
   ]
  },
  {
   "cell_type": "code",
   "execution_count": 19,
   "id": "020ed338",
   "metadata": {},
   "outputs": [],
   "source": [
    "from scipy.stats import poisson\n",
    "\n",
    "def poisson_cdf(x, mu):\n",
    "    return poisson.cdf(x, mu)\n"
   ]
  },
  {
   "cell_type": "code",
   "execution_count": 20,
   "id": "221b63f7",
   "metadata": {},
   "outputs": [],
   "source": [
    "# Q7. How Binomial distribution different from Poisson distribution?\n"
   ]
  },
  {
   "cell_type": "code",
   "execution_count": null,
   "id": "55c55888",
   "metadata": {},
   "outputs": [],
   "source": [
    "# Difference Between Binomial and Poisson:\n",
    "\n",
    "# Binomial: Discrete, finite trials, fixed probability, counts successes.\n",
    "# Poisson: Discrete, rare events, no fixed number of trials, models occurrences over time or space."
   ]
  },
  {
   "cell_type": "code",
   "execution_count": 21,
   "id": "0dec8e3e",
   "metadata": {},
   "outputs": [],
   "source": [
    "# Q8. Generate a random sample of size 1000 from a Poisson distribution with mean 5 and calculate the\n",
    "# sample mean and variance."
   ]
  },
  {
   "cell_type": "code",
   "execution_count": 23,
   "id": "193badf8",
   "metadata": {},
   "outputs": [
    {
     "data": {
      "text/plain": [
       "5.144191"
      ]
     },
     "execution_count": 23,
     "metadata": {},
     "output_type": "execute_result"
    }
   ],
   "source": [
    "poisson_sample = np.random.poisson(lam=5, size=1000)\n",
    "sample_mean = np.mean(poisson_sample)\n",
    "sample_variance = np.var(poisson_sample)\n",
    "sample_variance"
   ]
  },
  {
   "cell_type": "code",
   "execution_count": 24,
   "id": "d7990f6f",
   "metadata": {},
   "outputs": [],
   "source": [
    "# Q9. How mean and variance are related in Binomial distribution and Poisson distribution?"
   ]
  },
  {
   "cell_type": "code",
   "execution_count": 26,
   "id": "c461bf72",
   "metadata": {},
   "outputs": [],
   "source": [
    "# Binomial distribution : \n",
    "#     (mu) mean : np\n",
    "#     (sigma^2) variance : np(1-p)\n",
    "        \n",
    "# Poisson Distribution : \n",
    "#     mean(mu) : lambda (parameter of distribution )\n",
    "#     variance(sigma^2) : lambda ( parameter of distribution)\n",
    "\n",
    "\n",
    "# In the binomial distribution, the variance depends on both the number of trials and the success probability.\n",
    "# In the Poisson distribution, the variance is equal to the mean.\n",
    "        "
   ]
  },
  {
   "cell_type": "code",
   "execution_count": 27,
   "id": "fd4ca2b1",
   "metadata": {},
   "outputs": [],
   "source": [
    "# Q10. In normal distribution with respect to mean position,\n",
    "# where does the least frequent data appear?"
   ]
  },
  {
   "cell_type": "code",
   "execution_count": 28,
   "id": "42df73c8",
   "metadata": {},
   "outputs": [],
   "source": [
    "# # In a normal distribution, the least frequent data appears in the tails of the distribution. \n",
    "# # These tails are the regions far from the mean.\n",
    "# # The majority of data points cluster around the mean (which is the most common value), \n",
    "#   while the tails contain the less frequent or extreme values.\n",
    "\n"
   ]
  },
  {
   "cell_type": "code",
   "execution_count": null,
   "id": "00f0f794",
   "metadata": {},
   "outputs": [],
   "source": []
  }
 ],
 "metadata": {
  "kernelspec": {
   "display_name": "Python 3 (ipykernel)",
   "language": "python",
   "name": "python3"
  },
  "language_info": {
   "codemirror_mode": {
    "name": "ipython",
    "version": 3
   },
   "file_extension": ".py",
   "mimetype": "text/x-python",
   "name": "python",
   "nbconvert_exporter": "python",
   "pygments_lexer": "ipython3",
   "version": "3.9.12"
  }
 },
 "nbformat": 4,
 "nbformat_minor": 5
}
